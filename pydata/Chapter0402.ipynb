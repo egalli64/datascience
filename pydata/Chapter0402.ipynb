{
 "cells": [
  {
   "cell_type": "markdown",
   "metadata": {},
   "source": [
    "_My notebook on_\n",
    "# Python for Data Analysis - Wes McKinney\n",
    "## Chapter 4 - NumPy Basics: Arrays and Vectorized Computation\n",
    "### Part 2 and 3"
   ]
  },
  {
   "cell_type": "code",
   "execution_count": 1,
   "metadata": {},
   "outputs": [],
   "source": [
    "import numpy as np"
   ]
  },
  {
   "cell_type": "markdown",
   "metadata": {},
   "source": [
    "# 2: Universal Functions - Fast Element-Wise Array Functions"
   ]
  },
  {
   "cell_type": "code",
   "execution_count": 2,
   "metadata": {},
   "outputs": [
    {
     "name": "stdout",
     "output_type": "stream",
     "text": [
      "A couple of unary ufuncts\n"
     ]
    },
    {
     "data": {
      "text/plain": [
       "(array([0, 1, 2, 3, 4, 5, 6, 7, 8, 9]),\n",
       " array([0.        , 1.        , 1.41421356, 1.73205081, 2.        ,\n",
       "        2.23606798, 2.44948974, 2.64575131, 2.82842712, 3.        ]),\n",
       " array([1.00000000e+00, 2.71828183e+00, 7.38905610e+00, 2.00855369e+01,\n",
       "        5.45981500e+01, 1.48413159e+02, 4.03428793e+02, 1.09663316e+03,\n",
       "        2.98095799e+03, 8.10308393e+03]))"
      ]
     },
     "execution_count": 2,
     "metadata": {},
     "output_type": "execute_result"
    }
   ],
   "source": [
    "# A universal function performs element-wise operations on data in ndarrays\n",
    "arr = np.arange(10)\n",
    "\n",
    "print('A couple of unary ufuncts')\n",
    "arr, np.sqrt(arr), np.exp(arr)"
   ]
  },
  {
   "cell_type": "code",
   "execution_count": 3,
   "metadata": {},
   "outputs": [
    {
     "name": "stdout",
     "output_type": "stream",
     "text": [
      "x: [ 2.32483619  1.61571831 -0.54981743  1.2785999  -1.2955563  -0.23644509\n",
      " -1.80065476  0.42836936]\n",
      "y: [-1.35726438  0.21626626  0.66391197 -2.3704838  -0.2053351  -0.33032264\n",
      " -0.85560891 -0.23047915]\n",
      "add x, y: [ 0.96757181  1.83198457  0.11409454 -1.09188391 -1.50089139 -0.56676773\n",
      " -2.65626367  0.19789021]\n",
      "maximum x, y: [ 2.32483619  1.61571831  0.66391197  1.2785999  -0.2053351  -0.23644509\n",
      " -0.85560891  0.42836936]\n"
     ]
    }
   ],
   "source": [
    "# among binary ufuncts: add and maximum\n",
    "\n",
    "x = np.random.randn(8)\n",
    "print('x:', x)\n",
    "y = np.random.randn(8)\n",
    "print('y:', y)\n",
    "print('add x, y:', np.add(x, y))\n",
    "print('maximum x, y:', np.maximum(x, y))"
   ]
  },
  {
   "cell_type": "code",
   "execution_count": 4,
   "metadata": {},
   "outputs": [
    {
     "name": "stdout",
     "output_type": "stream",
     "text": [
      "[ 4.44318441 -2.51687052  8.56729485  0.79683819 -7.78936876  9.16639827\n",
      " -0.77707709] [ 0.44318441 -0.51687052  0.56729485  0.79683819 -0.78936876  0.16639827\n",
      " -0.77707709] [ 4. -2.  8.  0. -7.  9. -0.]\n"
     ]
    }
   ],
   "source": [
    "# a unary ufunct that returns two arrays: modf - fractional and integeral parts\n",
    "arr = np.random.randn(7) * 5\n",
    "fractionals, integrals = np.modf(arr)\n",
    "print(arr, fractionals, integrals)"
   ]
  },
  {
   "cell_type": "code",
   "execution_count": 5,
   "metadata": {},
   "outputs": [
    {
     "name": "stdout",
     "output_type": "stream",
     "text": [
      "[-0.63120706 -2.99803262  2.52648989  8.95894632 -3.08967543  1.10692125\n",
      "  0.13169856] [0. 0. 0. 0. 0. 0. 0.]\n",
      "ufunct output sent to specified array: [-0.63120706 -2.99803262  2.52648989  8.95894632 -3.08967543  1.10692125\n",
      "  0.13169856] [3.98422356e-01 8.98819960e+00 6.38315116e+00 8.02627192e+01\n",
      " 9.54609428e+00 1.22527465e+00 1.73445101e-02]\n",
      "applying ufunct on the input data: [3.98422356e-01 8.98819960e+00 6.38315116e+00 8.02627192e+01\n",
      " 9.54609428e+00 1.22527465e+00 1.73445101e-02]\n"
     ]
    }
   ],
   "source": [
    "# ufunct optional argument out\n",
    "arr = np.random.randn(7) * 5\n",
    "output = np.zeros(7)\n",
    "print(arr, output)\n",
    "np.square(arr, out=output)\n",
    "print('ufunct output sent to specified array:', arr, output)\n",
    "np.square(arr, out=arr)\n",
    "print('applying ufunct on the input data:', arr)\n"
   ]
  },
  {
   "cell_type": "markdown",
   "metadata": {},
   "source": [
    "# 3: Array-Oriented Programming with Arrays"
   ]
  },
  {
   "cell_type": "code",
   "execution_count": 6,
   "metadata": {},
   "outputs": [
    {
     "name": "stdout",
     "output_type": "stream",
     "text": [
      "1000 values in [-5.00, 4.99]\n"
     ]
    },
    {
     "data": {
      "text/plain": [
       "Text(0.5,1,'Image plot of $\\\\sqrt{x^2 + y^2}$ for a grid of values')"
      ]
     },
     "execution_count": 6,
     "metadata": {},
     "output_type": "execute_result"
    }
   ],
   "source": [
    "points = np.arange(-5, 5, 0.01) # 1000 equally spaced points\n",
    "print('1000 values in [{:.2f}, {:.2f}]'.format(points[0], points[-1]))\n",
    "\n",
    "xs, ys = np.meshgrid(points, points)\n",
    "z = np.sqrt(xs ** 2 + ys ** 2)\n",
    "\n",
    "import matplotlib.pyplot as plt\n",
    "plt.imshow(z, cmap=plt.cm.gray); plt.colorbar()\n",
    "plt.title(\"Image plot of $\\sqrt{x^2 + y^2}$ for a grid of values\")"
   ]
  },
  {
   "cell_type": "code",
   "execution_count": 7,
   "metadata": {},
   "outputs": [
    {
     "name": "stdout",
     "output_type": "stream",
     "text": [
      "Plain python: [1.1, 2.2, 1.3, 1.4, 2.5]\n",
      "Numpy where: [1.1 2.2 1.3 1.4 2.5]\n"
     ]
    }
   ],
   "source": [
    "# Numpy where\n",
    "\n",
    "alpha = np.array([1.1, 1.2, 1.3, 1.4, 1.5])\n",
    "beta = np.array([2.1, 2.2, 2.3, 2.4, 2.5])\n",
    "conditions = np.array([True, False, True, True, False])\n",
    "\n",
    "print('Plain python:', [(a if c else b) for a, b, c in zip(alpha, beta, conditions)])\n",
    "print('Numpy where:', np.where(conditions, alpha, beta))"
   ]
  },
  {
   "cell_type": "code",
   "execution_count": 8,
   "metadata": {},
   "outputs": [
    {
     "name": "stdout",
     "output_type": "stream",
     "text": [
      "[[ 0.94103578 -2.54174536 -1.33482466  1.05390376]\n",
      " [ 0.77325313 -0.54173573  0.41515241 -0.27685186]\n",
      " [-0.63251904 -2.74821059 -0.4982704  -0.21274358]\n",
      " [-0.58326453  0.60791657 -0.30047691 -0.38730944]]\n",
      "[[ 2 -2 -2  2]\n",
      " [ 2 -2  2 -2]\n",
      " [-2 -2 -2 -2]\n",
      " [-2  2 -2 -2]]\n",
      "[[0.94103578 0.         0.         1.05390376]\n",
      " [0.77325313 0.         0.41515241 0.        ]\n",
      " [0.         0.         0.         0.        ]\n",
      " [0.         0.60791657 0.         0.        ]]\n"
     ]
    }
   ],
   "source": [
    "# replace all positive values in an array with 2 and all negative values with –2\n",
    "\n",
    "arr = np.random.randn(4, 4)\n",
    "print(arr)\n",
    "print(np.where(arr > 0, 2, -2))\n",
    "\n",
    "# replace negative values in an array with 0\n",
    "print(np.where(arr < 0, 0, arr))"
   ]
  },
  {
   "cell_type": "code",
   "execution_count": 9,
   "metadata": {},
   "outputs": [
    {
     "name": "stdout",
     "output_type": "stream",
     "text": [
      "[[-0.99243548  0.75329243  0.71889301  0.37497679]\n",
      " [-1.23654578  0.15893221 -0.34670194  2.23389215]\n",
      " [-1.53491209 -1.10832034 -0.75617628 -0.3432436 ]\n",
      " [-0.37732474  1.25417413  0.88953026 -0.10321525]\n",
      " [-1.36402058 -2.21639365 -2.05648309 -0.13744141]]\n",
      "Mean: -0.3094761628867496 -0.3094761628867496\n",
      "Mean by col: [-1.10104774 -0.23166304 -0.31018761  0.40499374] [-1.10104774 -0.23166304 -0.31018761  0.40499374]\n",
      "Mean by row: [ 0.21368169  0.20239416 -0.93566308  0.4157911  -1.44358468] [ 0.21368169  0.20239416 -0.93566308  0.4157911  -1.44358468]\n",
      "Sum: -6.189523257734993 -6.189523257734993\n",
      "Sum by col: [-5.50523868 -1.15831522 -1.55093804  2.02496869] [-5.50523868 -1.15831522 -1.55093804  2.02496869]\n",
      "Sum by row: [ 0.85472675  0.80957664 -3.74265232  1.6631644  -5.77433873] [ 0.85472675  0.80957664 -3.74265232  1.6631644  -5.77433873]\n",
      "---\n",
      "[1 3 5 7]\n",
      "Partial/cumulative sum and prod: [ 1  4  9 16] [  1   3  15 105] [ 1  4  9 16] [  1   3  15 105]\n",
      "[[0 1 2]\n",
      " [3 4 5]\n",
      " [6 7 8]]\n",
      "Cumsum by col:\n",
      "[[ 0  1  2]\n",
      " [ 3  5  7]\n",
      " [ 9 12 15]]\n",
      "Cumprod by row:\n",
      "[[  0   0   0]\n",
      " [  3  12  60]\n",
      " [  6  42 336]]\n"
     ]
    }
   ],
   "source": [
    "# Mathematical and Statistical Methods\n",
    "\n",
    "arr = np.random.randn(5, 4)\n",
    "print(arr)\n",
    "print('Mean:', arr.mean(), np.mean(arr))\n",
    "print('Mean by col:', arr.mean(axis=0), np.mean(arr, axis=0))\n",
    "print('Mean by row:', arr.mean(axis=1), np.mean(arr, axis=1))\n",
    "print('Sum:', arr.sum(), np.sum(arr))\n",
    "print('Sum by col:', arr.sum(axis=0), np.sum(arr, axis=0))\n",
    "print('Sum by row:', arr.sum(axis=1), np.sum(arr, axis=1))\n",
    "\n",
    "print('---')\n",
    "arr = np.array([1, 3, 5, 7])\n",
    "print(arr)\n",
    "print('Partial/cumulative sum and prod:', np.cumsum(arr), np.cumprod(arr), arr.cumsum(), arr.cumprod())\n",
    "arr = np.array([[0, 1, 2], [3, 4, 5], [6, 7, 8]])\n",
    "print(arr)\n",
    "print('Cumsum by col:')\n",
    "print(arr.cumsum(axis=0))\n",
    "print('Cumprod by row:')\n",
    "print(arr.cumprod(axis=1))"
   ]
  },
  {
   "cell_type": "code",
   "execution_count": 10,
   "metadata": {},
   "outputs": [
    {
     "name": "stdout",
     "output_type": "stream",
     "text": [
      "Numpy sort() returns a sorted copy of the array:\n",
      "[-1.0190502  -0.98375078 -0.22427877  0.42147192  0.42575137  0.88772963] [-1.0190502   0.42147192  0.88772963 -0.22427877 -0.98375078  0.42575137]\n",
      "The array method sort() do its job inplace: [-1.0190502  -0.98375078 -0.22427877  0.42147192  0.42575137  0.88772963]\n"
     ]
    }
   ],
   "source": [
    "# sorting\n",
    "\n",
    "arr = np.random.randn(6)\n",
    "\n",
    "print('Numpy sort() returns a sorted copy of the array:')\n",
    "print(np.sort(arr), arr)\n",
    "arr.sort()\n",
    "print('The array method sort() do its job inplace:', arr)"
   ]
  },
  {
   "cell_type": "code",
   "execution_count": 11,
   "metadata": {},
   "outputs": [
    {
     "name": "stdout",
     "output_type": "stream",
     "text": [
      "[[-1.14050148  0.14195131 -0.17276851]\n",
      " [-0.44962076  0.89053788  0.50658865]\n",
      " [ 0.66666749  0.82124941  0.48034692]\n",
      " [ 1.03324461  0.3728631  -0.36301813]\n",
      " [-0.58782971 -0.33733338  2.01885191]]\n",
      "[[-1.14050148 -0.33733338 -0.36301813]\n",
      " [-0.58782971  0.14195131 -0.17276851]\n",
      " [-0.44962076  0.3728631   0.48034692]\n",
      " [ 0.66666749  0.82124941  0.50658865]\n",
      " [ 1.03324461  0.89053788  2.01885191]]\n",
      "[[-1.14050148 -0.36301813 -0.33733338]\n",
      " [-0.58782971 -0.17276851  0.14195131]\n",
      " [-0.44962076  0.3728631   0.48034692]\n",
      " [ 0.50658865  0.66666749  0.82124941]\n",
      " [ 0.89053788  1.03324461  2.01885191]]\n"
     ]
    }
   ],
   "source": [
    "# sorting by dimension:\n",
    "\n",
    "arr = np.random.randn(5, 3)\n",
    "print(arr)\n",
    "arr.sort(0)\n",
    "print(arr)\n",
    "arr.sort(1)\n",
    "print(arr)"
   ]
  },
  {
   "cell_type": "code",
   "execution_count": 12,
   "metadata": {},
   "outputs": [
    {
     "name": "stdout",
     "output_type": "stream",
     "text": [
      "50\n",
      "-1.6330739634610623\n",
      "[-2.55956394 -2.49820199 -2.45318653 -2.33145425 -2.29310515 -2.27668535\n",
      " -2.2669087  -2.25472931 -2.23986741 -2.21609272 -2.18107719 -2.12839482\n",
      " -2.11314775 -2.10485306 -2.08909404 -2.08471818 -2.08445549 -2.05726794\n",
      " -2.04937159 -2.03362271 -2.00401054 -1.99306273 -1.98186589 -1.96115384\n",
      " -1.9424268  -1.93114322 -1.90954252 -1.90574437 -1.90054853 -1.8986478\n",
      " -1.89795553 -1.89660628 -1.88398075 -1.82340871 -1.82230128 -1.81064884\n",
      " -1.80547386 -1.79709066 -1.77975201 -1.76303522 -1.75759446 -1.75115708\n",
      " -1.75010403 -1.71788728 -1.70631658 -1.70242351 -1.70167801 -1.69360397\n",
      " -1.67940352 -1.67323738]\n"
     ]
    }
   ],
   "source": [
    "# quick-and-dirty way to compute the quantiles by sorting\n",
    "arr = np.random.randn(1000)\n",
    "arr.sort()\n",
    "pos = int(0.05 * len(arr))\n",
    "print(pos)\n",
    "print(arr[pos]) # 5% quantile\n",
    "print(arr[arr < arr[pos]])"
   ]
  },
  {
   "cell_type": "code",
   "execution_count": 13,
   "metadata": {},
   "outputs": [
    {
     "name": "stdout",
     "output_type": "stream",
     "text": [
      "Numpy unique: ['Bob' 'Joe' 'Will'] [1 2 3 4]\n",
      "Same in pure python: ['Bob', 'Joe', 'Will'] [1, 2, 3, 4]\n"
     ]
    }
   ],
   "source": [
    "# unique - sorted w/o duplicated\n",
    "names = np.array(['Bob', 'Joe', 'Will', 'Bob', 'Will', 'Joe', 'Joe'])\n",
    "ints = np.array([3, 3, 3, 2, 2, 1, 1, 4, 4])\n",
    "print('Numpy unique:', np.unique(names), np.unique(ints))\n",
    "\n",
    "print('Same in pure python:', sorted(set(names)), sorted(set(ints)))"
   ]
  },
  {
   "cell_type": "code",
   "execution_count": 14,
   "metadata": {},
   "outputs": [
    {
     "name": "stdout",
     "output_type": "stream",
     "text": [
      "[ True False False  True  True False  True]\n"
     ]
    }
   ],
   "source": [
    "# in1d - are elements of A in B?\n",
    "print(np.in1d([6, 0, 0, 3, 2, 5, 6], [2, 3, 6]))"
   ]
  }
 ],
 "metadata": {
  "kernelspec": {
   "display_name": "Python 3",
   "language": "python",
   "name": "python3"
  },
  "language_info": {
   "codemirror_mode": {
    "name": "ipython",
    "version": 3
   },
   "file_extension": ".py",
   "mimetype": "text/x-python",
   "name": "python",
   "nbconvert_exporter": "python",
   "pygments_lexer": "ipython3",
   "version": "3.6.4"
  }
 },
 "nbformat": 4,
 "nbformat_minor": 2
}
