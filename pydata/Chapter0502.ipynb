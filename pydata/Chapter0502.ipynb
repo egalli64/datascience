{
 "cells": [
  {
   "cell_type": "markdown",
   "metadata": {},
   "source": [
    "_My notebook on_\n",
    "# Python for Data Analysis - Wes McKinney\n",
    "## Chapter 5 - Getting Started with pandas\n",
    "### Part 2 - Essential Functionality"
   ]
  },
  {
   "cell_type": "code",
   "execution_count": 1,
   "metadata": {},
   "outputs": [],
   "source": [
    "import pandas as pd\n",
    "import numpy as np"
   ]
  },
  {
   "cell_type": "markdown",
   "metadata": {},
   "source": [
    "Reindexing"
   ]
  },
  {
   "cell_type": "code",
   "execution_count": 2,
   "metadata": {},
   "outputs": [
    {
     "name": "stdout",
     "output_type": "stream",
     "text": [
      "d    4.5\n",
      "b    7.2\n",
      "a   -5.3\n",
      "c    3.6\n",
      "dtype: float64\n",
      "a   -5.3\n",
      "b    7.2\n",
      "c    3.6\n",
      "d    4.5\n",
      "e    NaN\n",
      "dtype: float64\n"
     ]
    }
   ],
   "source": [
    "obj = pd.Series([4.5, 7.2, -5.3, 3.6], index=['d', 'b', 'a', 'c'])\n",
    "print(obj)\n",
    "obj2 = obj.reindex(['a', 'b', 'c', 'd', 'e'])\n",
    "print(obj2)"
   ]
  },
  {
   "cell_type": "code",
   "execution_count": 3,
   "metadata": {},
   "outputs": [
    {
     "name": "stdout",
     "output_type": "stream",
     "text": [
      "0      blue\n",
      "2    purple\n",
      "4    yellow\n",
      "dtype: object\n",
      "0      blue\n",
      "1      blue\n",
      "2    purple\n",
      "3    purple\n",
      "4    yellow\n",
      "5    yellow\n",
      "dtype: object\n"
     ]
    }
   ],
   "source": [
    "# reindexing with interpolation - filling in between\n",
    "\n",
    "obj3 = pd.Series(['blue', 'purple', 'yellow'], index=[0, 2, 4])\n",
    "print(obj3)\n",
    "obj4 = obj3.reindex(range(6), method='ffill')\n",
    "print(obj4)"
   ]
  },
  {
   "cell_type": "code",
   "execution_count": 4,
   "metadata": {},
   "outputs": [
    {
     "name": "stdout",
     "output_type": "stream",
     "text": [
      "   Ohio  Texas  California\n",
      "a     0      1           2\n",
      "c     3      4           5\n",
      "d     6      7           8\n",
      "   Ohio  Texas  California\n",
      "a   0.0    1.0         2.0\n",
      "b   NaN    NaN         NaN\n",
      "c   3.0    4.0         5.0\n",
      "d   6.0    7.0         8.0\n"
     ]
    }
   ],
   "source": [
    "# reindexing on dataframe\n",
    "\n",
    "frame = pd.DataFrame(np.arange(9).reshape((3, 3)), index=['a', 'c', 'd'], columns=['Ohio', 'Texas', 'California'])\n",
    "print(frame)\n",
    "\n",
    "frame2 = frame.reindex(['a', 'b', 'c', 'd'])\n",
    "print(frame2)"
   ]
  },
  {
   "cell_type": "code",
   "execution_count": 5,
   "metadata": {},
   "outputs": [
    {
     "data": {
      "text/html": [
       "<div>\n",
       "<style scoped>\n",
       "    .dataframe tbody tr th:only-of-type {\n",
       "        vertical-align: middle;\n",
       "    }\n",
       "\n",
       "    .dataframe tbody tr th {\n",
       "        vertical-align: top;\n",
       "    }\n",
       "\n",
       "    .dataframe thead th {\n",
       "        text-align: right;\n",
       "    }\n",
       "</style>\n",
       "<table border=\"1\" class=\"dataframe\">\n",
       "  <thead>\n",
       "    <tr style=\"text-align: right;\">\n",
       "      <th></th>\n",
       "      <th>Texas</th>\n",
       "      <th>Utah</th>\n",
       "      <th>California</th>\n",
       "    </tr>\n",
       "  </thead>\n",
       "  <tbody>\n",
       "    <tr>\n",
       "      <th>a</th>\n",
       "      <td>1</td>\n",
       "      <td>NaN</td>\n",
       "      <td>2</td>\n",
       "    </tr>\n",
       "    <tr>\n",
       "      <th>c</th>\n",
       "      <td>4</td>\n",
       "      <td>NaN</td>\n",
       "      <td>5</td>\n",
       "    </tr>\n",
       "    <tr>\n",
       "      <th>d</th>\n",
       "      <td>7</td>\n",
       "      <td>NaN</td>\n",
       "      <td>8</td>\n",
       "    </tr>\n",
       "  </tbody>\n",
       "</table>\n",
       "</div>"
      ],
      "text/plain": [
       "   Texas  Utah  California\n",
       "a      1   NaN           2\n",
       "c      4   NaN           5\n",
       "d      7   NaN           8"
      ]
     },
     "execution_count": 5,
     "metadata": {},
     "output_type": "execute_result"
    }
   ],
   "source": [
    "# reindexing on dataframe by columns\n",
    "states = ['Texas', 'Utah', 'California']\n",
    "frame.reindex(columns=states)"
   ]
  },
  {
   "cell_type": "code",
   "execution_count": 6,
   "metadata": {},
   "outputs": [
    {
     "name": "stderr",
     "output_type": "stream",
     "text": [
      "D:\\dev\\anaconda3\\lib\\site-packages\\ipykernel_launcher.py:2: FutureWarning: \n",
      "Passing list-likes to .loc or [] with any missing label will raise\n",
      "KeyError in the future, you can use .reindex() as an alternative.\n",
      "\n",
      "See the documentation here:\n",
      "http://pandas.pydata.org/pandas-docs/stable/indexing.html#deprecate-loc-reindex-listlike\n",
      "  \n"
     ]
    },
    {
     "data": {
      "text/html": [
       "<div>\n",
       "<style scoped>\n",
       "    .dataframe tbody tr th:only-of-type {\n",
       "        vertical-align: middle;\n",
       "    }\n",
       "\n",
       "    .dataframe tbody tr th {\n",
       "        vertical-align: top;\n",
       "    }\n",
       "\n",
       "    .dataframe thead th {\n",
       "        text-align: right;\n",
       "    }\n",
       "</style>\n",
       "<table border=\"1\" class=\"dataframe\">\n",
       "  <thead>\n",
       "    <tr style=\"text-align: right;\">\n",
       "      <th></th>\n",
       "      <th>Texas</th>\n",
       "      <th>Utah</th>\n",
       "      <th>California</th>\n",
       "    </tr>\n",
       "  </thead>\n",
       "  <tbody>\n",
       "    <tr>\n",
       "      <th>a</th>\n",
       "      <td>1.0</td>\n",
       "      <td>NaN</td>\n",
       "      <td>2.0</td>\n",
       "    </tr>\n",
       "    <tr>\n",
       "      <th>b</th>\n",
       "      <td>NaN</td>\n",
       "      <td>NaN</td>\n",
       "      <td>NaN</td>\n",
       "    </tr>\n",
       "    <tr>\n",
       "      <th>c</th>\n",
       "      <td>4.0</td>\n",
       "      <td>NaN</td>\n",
       "      <td>5.0</td>\n",
       "    </tr>\n",
       "    <tr>\n",
       "      <th>d</th>\n",
       "      <td>7.0</td>\n",
       "      <td>NaN</td>\n",
       "      <td>8.0</td>\n",
       "    </tr>\n",
       "  </tbody>\n",
       "</table>\n",
       "</div>"
      ],
      "text/plain": [
       "   Texas  Utah  California\n",
       "a    1.0   NaN         2.0\n",
       "b    NaN   NaN         NaN\n",
       "c    4.0   NaN         5.0\n",
       "d    7.0   NaN         8.0"
      ]
     },
     "execution_count": 6,
     "metadata": {},
     "output_type": "execute_result"
    }
   ],
   "source": [
    "# alt reindexing by loc (deprecated)\n",
    "frame.loc[['a', 'b', 'c', 'd'], states]"
   ]
  },
  {
   "cell_type": "markdown",
   "metadata": {},
   "source": [
    "Dropping Entries from an Axis"
   ]
  },
  {
   "cell_type": "code",
   "execution_count": 7,
   "metadata": {},
   "outputs": [
    {
     "name": "stdout",
     "output_type": "stream",
     "text": [
      "a    0.0\n",
      "b    1.0\n",
      "c    2.0\n",
      "d    3.0\n",
      "e    4.0\n",
      "dtype: float64\n",
      "a    0.0\n",
      "b    1.0\n",
      "d    3.0\n",
      "e    4.0\n",
      "dtype: float64\n",
      "a    0.0\n",
      "b    1.0\n",
      "e    4.0\n",
      "dtype: float64\n"
     ]
    }
   ],
   "source": [
    "# Dropping Entries from a Series\n",
    "\n",
    "obj = pd.Series(np.arange(5.), index=['a', 'b', 'c', 'd', 'e'])\n",
    "print(obj)\n",
    "print(obj.drop('c'))\n",
    "print(obj.drop(['d', 'c']))"
   ]
  },
  {
   "cell_type": "code",
   "execution_count": 8,
   "metadata": {},
   "outputs": [
    {
     "name": "stdout",
     "output_type": "stream",
     "text": [
      "          one  two  three  four\n",
      "Ohio        0    1      2     3\n",
      "Colorado    4    5      6     7\n",
      "Utah        8    9     10    11\n",
      "New York   12   13     14    15\n",
      "          one  two  three  four\n",
      "Utah        8    9     10    11\n",
      "New York   12   13     14    15\n",
      "          one  three  four\n",
      "Ohio        0      2     3\n",
      "Colorado    4      6     7\n",
      "Utah        8     10    11\n",
      "New York   12     14    15\n",
      "          one  three\n",
      "Ohio        0      2\n",
      "Colorado    4      6\n",
      "Utah        8     10\n",
      "New York   12     14\n",
      "          one  two  three  four\n",
      "Ohio        0    1      2     3\n",
      "Colorado    4    5      6     7\n",
      "Utah        8    9     10    11\n"
     ]
    }
   ],
   "source": [
    "# Dropping Entries from a DataFrame\n",
    "data = pd.DataFrame(np.arange(16).reshape((4, 4)),\n",
    "                    index=['Ohio', 'Colorado', 'Utah', 'New York'],\n",
    "                    columns=['one', 'two', 'three', 'four'])\n",
    "print(data)\n",
    "print(data.drop(['Colorado', 'Ohio']))\n",
    "print(data.drop('two', axis=1))\n",
    "print(data.drop(['two', 'four'], axis='columns'))\n",
    "\n",
    "# inplace drop\n",
    "data.drop('New York', inplace=True)\n",
    "print(data)"
   ]
  },
  {
   "cell_type": "markdown",
   "metadata": {},
   "source": [
    "Indexing, Selection, and Filtering"
   ]
  },
  {
   "cell_type": "code",
   "execution_count": 9,
   "metadata": {},
   "outputs": [
    {
     "name": "stdout",
     "output_type": "stream",
     "text": [
      "a    0.0\n",
      "b    1.0\n",
      "c    2.0\n",
      "d    3.0\n",
      "dtype: float64\n",
      "1.0 1.0\n",
      "c    2.0\n",
      "d    3.0\n",
      "dtype: float64\n",
      "b    1.0\n",
      "c    2.0\n",
      "d    3.0\n",
      "dtype: float64\n",
      "b    1.0\n",
      "a    0.0\n",
      "d    3.0\n",
      "dtype: float64\n",
      "b    1.0\n",
      "d    3.0\n",
      "dtype: float64\n",
      "a    0.0\n",
      "b    1.0\n",
      "dtype: float64\n",
      "a    0.0\n",
      "b    5.0\n",
      "c    5.0\n",
      "d    3.0\n",
      "dtype: float64\n"
     ]
    }
   ],
   "source": [
    "# Series indexed by value or proper index\n",
    "\n",
    "obj = pd.Series(np.arange(4.), index=['a', 'b', 'c', 'd'])\n",
    "print(obj)\n",
    "print(obj['b'], obj[1])\n",
    "print(obj[2:4])\n",
    "\n",
    "# notice the difference: here 'end' is included!\n",
    "print(obj['b':'d'])\n",
    "\n",
    "print(obj[['b', 'a', 'd']])\n",
    "print(obj[[1, 3]])\n",
    "print(obj[obj < 2])\n",
    "\n",
    "#selected elements could be set:\n",
    "obj['b':'c'] = 5\n",
    "print(obj)"
   ]
  },
  {
   "cell_type": "code",
   "execution_count": 10,
   "metadata": {},
   "outputs": [
    {
     "name": "stdout",
     "output_type": "stream",
     "text": [
      "          one  two  three  four\n",
      "Ohio        0    1      2     3\n",
      "Colorado    4    5      6     7\n",
      "Utah        8    9     10    11\n",
      "Getting a column:\n",
      "Ohio        1\n",
      "Colorado    5\n",
      "Utah        9\n",
      "Name: two, dtype: int32\n",
      "Getting more columns\n",
      "          three  one\n",
      "Ohio          2    0\n",
      "Colorado      6    4\n",
      "Utah         10    8\n"
     ]
    }
   ],
   "source": [
    "print(data)\n",
    "print('Getting a column:')\n",
    "print(data['two'])\n",
    "print('Getting more columns')\n",
    "print(data[['three', 'one']])"
   ]
  },
  {
   "cell_type": "code",
   "execution_count": 11,
   "metadata": {},
   "outputs": [
    {
     "name": "stdout",
     "output_type": "stream",
     "text": [
      "Getting a few rows:\n",
      "          one  two  three  four\n",
      "Ohio        0    1      2     3\n",
      "Colorado    4    5      6     7\n"
     ]
    }
   ],
   "source": [
    "print('Getting a few rows:')\n",
    "print(data[:2])"
   ]
  },
  {
   "cell_type": "code",
   "execution_count": 12,
   "metadata": {},
   "outputs": [
    {
     "data": {
      "text/html": [
       "<div>\n",
       "<style scoped>\n",
       "    .dataframe tbody tr th:only-of-type {\n",
       "        vertical-align: middle;\n",
       "    }\n",
       "\n",
       "    .dataframe tbody tr th {\n",
       "        vertical-align: top;\n",
       "    }\n",
       "\n",
       "    .dataframe thead th {\n",
       "        text-align: right;\n",
       "    }\n",
       "</style>\n",
       "<table border=\"1\" class=\"dataframe\">\n",
       "  <thead>\n",
       "    <tr style=\"text-align: right;\">\n",
       "      <th></th>\n",
       "      <th>one</th>\n",
       "      <th>two</th>\n",
       "      <th>three</th>\n",
       "      <th>four</th>\n",
       "    </tr>\n",
       "  </thead>\n",
       "  <tbody>\n",
       "    <tr>\n",
       "      <th>Colorado</th>\n",
       "      <td>4</td>\n",
       "      <td>5</td>\n",
       "      <td>6</td>\n",
       "      <td>7</td>\n",
       "    </tr>\n",
       "    <tr>\n",
       "      <th>Utah</th>\n",
       "      <td>8</td>\n",
       "      <td>9</td>\n",
       "      <td>10</td>\n",
       "      <td>11</td>\n",
       "    </tr>\n",
       "  </tbody>\n",
       "</table>\n",
       "</div>"
      ],
      "text/plain": [
       "          one  two  three  four\n",
       "Colorado    4    5      6     7\n",
       "Utah        8    9     10    11"
      ]
     },
     "execution_count": 12,
     "metadata": {},
     "output_type": "execute_result"
    }
   ],
   "source": [
    "# selecting rows by boolean check\n",
    "data[data['three'] > 5]"
   ]
  },
  {
   "cell_type": "code",
   "execution_count": 13,
   "metadata": {},
   "outputs": [
    {
     "name": "stdout",
     "output_type": "stream",
     "text": [
      "            one    two  three   four\n",
      "Ohio       True   True   True   True\n",
      "Colorado   True  False  False  False\n",
      "Utah      False  False  False  False\n",
      "---\n",
      "          one  two  three  four\n",
      "Ohio        0    0      0     0\n",
      "Colorado    0    5      6     7\n",
      "Utah        8    9     10    11\n"
     ]
    }
   ],
   "source": [
    "# scalar comparison\n",
    "print(data < 5)\n",
    "print('---')\n",
    "data[data < 5] = 0\n",
    "print(data)"
   ]
  },
  {
   "cell_type": "code",
   "execution_count": 14,
   "metadata": {},
   "outputs": [
    {
     "data": {
      "text/plain": [
       "two      5\n",
       "three    6\n",
       "Name: Colorado, dtype: int32"
      ]
     },
     "execution_count": 14,
     "metadata": {},
     "output_type": "execute_result"
    }
   ],
   "source": [
    "# loc to select a single row and multiple columns\n",
    "\n",
    "data.loc['Colorado', ['two', 'three']]"
   ]
  },
  {
   "cell_type": "code",
   "execution_count": 15,
   "metadata": {},
   "outputs": [
    {
     "data": {
      "text/plain": [
       "four    11\n",
       "one      8\n",
       "two      9\n",
       "Name: Utah, dtype: int32"
      ]
     },
     "execution_count": 15,
     "metadata": {},
     "output_type": "execute_result"
    }
   ],
   "source": [
    "#iloc to select a single row and multiple columns\n",
    "data.iloc[2, [3, 0, 1]]"
   ]
  },
  {
   "cell_type": "code",
   "execution_count": 16,
   "metadata": {},
   "outputs": [
    {
     "data": {
      "text/plain": [
       "one       8\n",
       "two       9\n",
       "three    10\n",
       "four     11\n",
       "Name: Utah, dtype: int32"
      ]
     },
     "execution_count": 16,
     "metadata": {},
     "output_type": "execute_result"
    }
   ],
   "source": [
    "# iloc to get a row\n",
    "data.iloc[2]"
   ]
  },
  {
   "cell_type": "code",
   "execution_count": 17,
   "metadata": {},
   "outputs": [
    {
     "data": {
      "text/html": [
       "<div>\n",
       "<style scoped>\n",
       "    .dataframe tbody tr th:only-of-type {\n",
       "        vertical-align: middle;\n",
       "    }\n",
       "\n",
       "    .dataframe tbody tr th {\n",
       "        vertical-align: top;\n",
       "    }\n",
       "\n",
       "    .dataframe thead th {\n",
       "        text-align: right;\n",
       "    }\n",
       "</style>\n",
       "<table border=\"1\" class=\"dataframe\">\n",
       "  <thead>\n",
       "    <tr style=\"text-align: right;\">\n",
       "      <th></th>\n",
       "      <th>four</th>\n",
       "      <th>one</th>\n",
       "      <th>two</th>\n",
       "    </tr>\n",
       "  </thead>\n",
       "  <tbody>\n",
       "    <tr>\n",
       "      <th>Colorado</th>\n",
       "      <td>7</td>\n",
       "      <td>0</td>\n",
       "      <td>5</td>\n",
       "    </tr>\n",
       "    <tr>\n",
       "      <th>Utah</th>\n",
       "      <td>11</td>\n",
       "      <td>8</td>\n",
       "      <td>9</td>\n",
       "    </tr>\n",
       "  </tbody>\n",
       "</table>\n",
       "</div>"
      ],
      "text/plain": [
       "          four  one  two\n",
       "Colorado     7    0    5\n",
       "Utah        11    8    9"
      ]
     },
     "execution_count": 17,
     "metadata": {},
     "output_type": "execute_result"
    }
   ],
   "source": [
    "# iloc to get rows-cols values\n",
    "data.iloc[[1, 2], [3, 0, 1]]"
   ]
  },
  {
   "cell_type": "code",
   "execution_count": 18,
   "metadata": {},
   "outputs": [
    {
     "data": {
      "text/plain": [
       "Ohio        0\n",
       "Colorado    5\n",
       "Utah        9\n",
       "Name: two, dtype: int32"
      ]
     },
     "execution_count": 18,
     "metadata": {},
     "output_type": "execute_result"
    }
   ],
   "source": [
    "# slicing, all rows up to Utah - col two\n",
    "data.loc[:'Utah', 'two']"
   ]
  },
  {
   "cell_type": "code",
   "execution_count": 19,
   "metadata": {},
   "outputs": [
    {
     "data": {
      "text/html": [
       "<div>\n",
       "<style scoped>\n",
       "    .dataframe tbody tr th:only-of-type {\n",
       "        vertical-align: middle;\n",
       "    }\n",
       "\n",
       "    .dataframe tbody tr th {\n",
       "        vertical-align: top;\n",
       "    }\n",
       "\n",
       "    .dataframe thead th {\n",
       "        text-align: right;\n",
       "    }\n",
       "</style>\n",
       "<table border=\"1\" class=\"dataframe\">\n",
       "  <thead>\n",
       "    <tr style=\"text-align: right;\">\n",
       "      <th></th>\n",
       "      <th>one</th>\n",
       "      <th>two</th>\n",
       "      <th>three</th>\n",
       "    </tr>\n",
       "  </thead>\n",
       "  <tbody>\n",
       "    <tr>\n",
       "      <th>Colorado</th>\n",
       "      <td>0</td>\n",
       "      <td>5</td>\n",
       "      <td>6</td>\n",
       "    </tr>\n",
       "    <tr>\n",
       "      <th>Utah</th>\n",
       "      <td>8</td>\n",
       "      <td>9</td>\n",
       "      <td>10</td>\n",
       "    </tr>\n",
       "  </tbody>\n",
       "</table>\n",
       "</div>"
      ],
      "text/plain": [
       "          one  two  three\n",
       "Colorado    0    5      6\n",
       "Utah        8    9     10"
      ]
     },
     "execution_count": 19,
     "metadata": {},
     "output_type": "execute_result"
    }
   ],
   "source": [
    "# all rows, cols up to third, then bool check on three\n",
    "data.iloc[:, :3][data.three > 5]"
   ]
  },
  {
   "cell_type": "markdown",
   "metadata": {},
   "source": [
    "### Integer Indexes"
   ]
  },
  {
   "cell_type": "code",
   "execution_count": 20,
   "metadata": {},
   "outputs": [
    {
     "name": "stdout",
     "output_type": "stream",
     "text": [
      "0    0.0\n",
      "1    1.0\n",
      "2    2.0\n",
      "dtype: float64\n"
     ]
    }
   ],
   "source": [
    "ser = pd.Series(np.arange(3.))\n",
    "print(ser)\n",
    "# ser[-1] # KeyError!"
   ]
  },
  {
   "cell_type": "code",
   "execution_count": 21,
   "metadata": {},
   "outputs": [
    {
     "name": "stdout",
     "output_type": "stream",
     "text": [
      "a    0.0\n",
      "b    1.0\n",
      "c    2.0\n",
      "dtype: float64\n",
      "0.0 1.0 2.0\n"
     ]
    }
   ],
   "source": [
    "ser2 = pd.Series(np.arange(3.), index=['a', 'b', 'c'])\n",
    "print(ser2)\n",
    "print(ser2['a'], ser2[1], ser2[-1]) # -1 here is not ambiguous"
   ]
  },
  {
   "cell_type": "code",
   "execution_count": 22,
   "metadata": {},
   "outputs": [
    {
     "name": "stdout",
     "output_type": "stream",
     "text": [
      "0    0.0\n",
      "dtype: float64\n",
      "0    0.0\n",
      "1    1.0\n",
      "dtype: float64\n",
      "0    0.0\n",
      "dtype: float64\n"
     ]
    }
   ],
   "source": [
    "# loc and iloc are more precise\n",
    "print(ser[:1])\n",
    "print(ser.loc[:1])\n",
    "print(ser.iloc[:1])"
   ]
  },
  {
   "cell_type": "markdown",
   "metadata": {},
   "source": [
    "### Arithmetic and Data Alignment"
   ]
  },
  {
   "cell_type": "code",
   "execution_count": 23,
   "metadata": {},
   "outputs": [
    {
     "name": "stdout",
     "output_type": "stream",
     "text": [
      "a    7.3\n",
      "c   -2.5\n",
      "d    3.4\n",
      "e    1.5\n",
      "dtype: float64\n",
      "a   -2.1\n",
      "c    3.6\n",
      "e   -1.5\n",
      "f    4.0\n",
      "g    3.1\n",
      "dtype: float64\n",
      "Adding up two series leads to something like automatic outer join - w/ NaN\n",
      "a    5.2\n",
      "c    1.1\n",
      "d    NaN\n",
      "e    0.0\n",
      "f    NaN\n",
      "g    NaN\n",
      "dtype: float64\n"
     ]
    }
   ],
   "source": [
    "# Series\n",
    "\n",
    "s1 = pd.Series([7.3, -2.5, 3.4, 1.5], index=['a', 'c', 'd', 'e'])\n",
    "print(s1)\n",
    "s2 = pd.Series([-2.1, 3.6, -1.5, 4, 3.1], index=['a', 'c', 'e', 'f', 'g'])\n",
    "print(s2)\n",
    "print('Adding up two series leads to something like automatic outer join - w/ NaN')\n",
    "print(s1+s2)"
   ]
  },
  {
   "cell_type": "code",
   "execution_count": 24,
   "metadata": {},
   "outputs": [
    {
     "name": "stdout",
     "output_type": "stream",
     "text": [
      "            b    c    d\n",
      "Ohio      0.0  1.0  2.0\n",
      "Texas     3.0  4.0  5.0\n",
      "Colorado  6.0  7.0  8.0\n",
      "          b     d     e\n",
      "Utah    0.0   1.0   2.0\n",
      "Ohio    3.0   4.0   5.0\n",
      "Texas   6.0   7.0   8.0\n",
      "Oregon  9.0  10.0  11.0\n",
      "Same behavior on df, index and columns are union, NaN for missing value on join\n",
      "            b   c     d   e\n",
      "Colorado  NaN NaN   NaN NaN\n",
      "Ohio      3.0 NaN   6.0 NaN\n",
      "Oregon    NaN NaN   NaN NaN\n",
      "Texas     9.0 NaN  12.0 NaN\n",
      "Utah      NaN NaN   NaN NaN\n"
     ]
    }
   ],
   "source": [
    "# DataFrame\n",
    "df1 = pd.DataFrame(np.arange(9.).reshape((3, 3)),\n",
    "                   columns=list('bcd'), index=['Ohio', 'Texas', 'Colorado'])\n",
    "print(df1)\n",
    "df2 = pd.DataFrame(np.arange(12.).reshape((4, 3)),\n",
    "                   columns=list('bde'), index=['Utah', 'Ohio', 'Texas', 'Oregon'])\n",
    "print(df2)\n",
    "print('Same behavior on df, index and columns are union, NaN for missing value on join')\n",
    "print(df1+df2)"
   ]
  },
  {
   "cell_type": "code",
   "execution_count": 25,
   "metadata": {},
   "outputs": [
    {
     "name": "stdout",
     "output_type": "stream",
     "text": [
      "   A\n",
      "0  1\n",
      "1  2\n",
      "   B\n",
      "0  3\n",
      "1  4\n",
      "No common elements, leads to a NaN table\n",
      "    A   B\n",
      "0 NaN NaN\n",
      "1 NaN NaN\n"
     ]
    }
   ],
   "source": [
    "df1 = pd.DataFrame({'A': [1, 2]})\n",
    "print(df1)\n",
    "df2 = pd.DataFrame({'B': [3, 4]})\n",
    "print(df2)\n",
    "print('No common elements, leads to a NaN table')\n",
    "print(df1 - df2)"
   ]
  },
  {
   "cell_type": "markdown",
   "metadata": {},
   "source": [
    "Arithmetic methods with fill values"
   ]
  },
  {
   "cell_type": "code",
   "execution_count": 26,
   "metadata": {},
   "outputs": [
    {
     "name": "stdout",
     "output_type": "stream",
     "text": [
      "     a    b     c     d\n",
      "0  0.0  1.0   2.0   3.0\n",
      "1  4.0  5.0   6.0   7.0\n",
      "2  8.0  9.0  10.0  11.0\n",
      "      a     b     c     d     e\n",
      "0   0.0   1.0   2.0   3.0   4.0\n",
      "1   5.0   NaN   7.0   8.0   9.0\n",
      "2  10.0  11.0  12.0  13.0  14.0\n",
      "3  15.0  16.0  17.0  18.0  19.0\n",
      "Plain add leads to NaN\n",
      "      a     b     c     d   e\n",
      "0   0.0   2.0   4.0   6.0 NaN\n",
      "1   9.0   NaN  13.0  15.0 NaN\n",
      "2  18.0  20.0  22.0  24.0 NaN\n",
      "3   NaN   NaN   NaN   NaN NaN\n",
      "Using add method makes available the fill_value argument\n",
      "      a     b     c     d     e\n",
      "0   0.0   2.0   4.0   6.0   4.0\n",
      "1   9.0   5.0  13.0  15.0   9.0\n",
      "2  18.0  20.0  22.0  24.0  14.0\n",
      "3  15.0  16.0  17.0  18.0  19.0\n"
     ]
    }
   ],
   "source": [
    "df1 = pd.DataFrame(np.arange(12.).reshape((3, 4)), columns=list('abcd'))\n",
    "print(df1)\n",
    "df2 = pd.DataFrame(np.arange(20.).reshape((4, 5)), columns=list('abcde'))\n",
    "df2.loc[1, 'b'] = np.nan\n",
    "print(df2)\n",
    "print('Plain add leads to NaN')\n",
    "print(df1+df2)\n",
    "print('Using add method makes available the fill_value argument')\n",
    "print(df1.add(df2, fill_value=0))"
   ]
  },
  {
   "cell_type": "markdown",
   "metadata": {},
   "source": [
    "methods for arithmetic - starting with \"r\" for flipping arguments"
   ]
  },
  {
   "cell_type": "code",
   "execution_count": 27,
   "metadata": {},
   "outputs": [
    {
     "name": "stdout",
     "output_type": "stream",
     "text": [
      "          a         b         c         d\n",
      "0       inf  1.000000  0.500000  0.333333\n",
      "1  0.250000  0.200000  0.166667  0.142857\n",
      "2  0.125000  0.111111  0.100000  0.090909\n",
      "          a         b         c         d\n",
      "0       inf  1.000000  0.500000  0.333333\n",
      "1  0.250000  0.200000  0.166667  0.142857\n",
      "2  0.125000  0.111111  0.100000  0.090909\n"
     ]
    }
   ],
   "source": [
    "print(1 / df1)\n",
    "print(df1.rdiv(1))"
   ]
  },
  {
   "cell_type": "markdown",
   "metadata": {},
   "source": [
    "Operations between DataFrame and Series"
   ]
  },
  {
   "cell_type": "code",
   "execution_count": 28,
   "metadata": {},
   "outputs": [
    {
     "name": "stdout",
     "output_type": "stream",
     "text": [
      "[[ 0.  1.  2.  3.]\n",
      " [ 4.  5.  6.  7.]\n",
      " [ 8.  9. 10. 11.]]\n",
      "[[0. 0. 0. 0.]\n",
      " [4. 4. 4. 4.]\n",
      " [8. 8. 8. 8.]]\n"
     ]
    }
   ],
   "source": [
    "# difference between a two-dimensional array and one of its rows - broadcasting\n",
    "arr = np.arange(12.).reshape((3, 4))\n",
    "print(arr)\n",
    "print(arr - arr[0])"
   ]
  },
  {
   "cell_type": "code",
   "execution_count": 29,
   "metadata": {},
   "outputs": [
    {
     "name": "stdout",
     "output_type": "stream",
     "text": [
      "          b     d     e\n",
      "Utah    0.0   1.0   2.0\n",
      "Ohio    3.0   4.0   5.0\n",
      "Texas   6.0   7.0   8.0\n",
      "Oregon  9.0  10.0  11.0\n",
      "          b    d    e\n",
      "Utah    0.0  0.0  0.0\n",
      "Ohio    3.0  3.0  3.0\n",
      "Texas   6.0  6.0  6.0\n",
      "Oregon  9.0  9.0  9.0\n"
     ]
    }
   ],
   "source": [
    "# same when working with a series and a dataframe\n",
    "frame = pd.DataFrame(np.arange(12.).reshape((4, 3)),\n",
    "                     columns=list('bde'), index=['Utah', 'Ohio', 'Texas', 'Oregon'])\n",
    "series = frame.iloc[0]\n",
    "print(frame)\n",
    "print(frame - series)"
   ]
  },
  {
   "cell_type": "code",
   "execution_count": 30,
   "metadata": {},
   "outputs": [
    {
     "name": "stdout",
     "output_type": "stream",
     "text": [
      "b    0\n",
      "e    1\n",
      "f    2\n",
      "dtype: int64\n",
      "          b   d     e   f\n",
      "Utah    0.0 NaN   3.0 NaN\n",
      "Ohio    3.0 NaN   6.0 NaN\n",
      "Texas   6.0 NaN   9.0 NaN\n",
      "Oregon  9.0 NaN  12.0 NaN\n"
     ]
    }
   ],
   "source": [
    "s2 = pd.Series(range(3), index=['b', 'e', 'f'])\n",
    "print(s2)\n",
    "print(frame+s2)"
   ]
  },
  {
   "cell_type": "markdown",
   "metadata": {},
   "source": [
    "Broadcast over columns"
   ]
  },
  {
   "cell_type": "code",
   "execution_count": 31,
   "metadata": {},
   "outputs": [
    {
     "name": "stdout",
     "output_type": "stream",
     "text": [
      "Utah       1.0\n",
      "Ohio       4.0\n",
      "Texas      7.0\n",
      "Oregon    10.0\n",
      "Name: d, dtype: float64\n",
      "          b    d    e\n",
      "Utah   -1.0  0.0  1.0\n",
      "Ohio   -1.0  0.0  1.0\n",
      "Texas  -1.0  0.0  1.0\n",
      "Oregon -1.0  0.0  1.0\n",
      "          b    d    e\n",
      "Utah   -1.0  0.0  1.0\n",
      "Ohio   -1.0  0.0  1.0\n",
      "Texas  -1.0  0.0  1.0\n",
      "Oregon -1.0  0.0  1.0\n"
     ]
    }
   ],
   "source": [
    "s3 = frame['d']\n",
    "print(s3)\n",
    "print(frame.sub(s3, axis='index'))\n",
    "print(frame.sub(s3, axis=0))"
   ]
  },
  {
   "cell_type": "markdown",
   "metadata": {},
   "source": [
    "## Function Application and Mapping"
   ]
  },
  {
   "cell_type": "code",
   "execution_count": 32,
   "metadata": {},
   "outputs": [
    {
     "name": "stdout",
     "output_type": "stream",
     "text": [
      "               b         d         e\n",
      "Utah   -0.045957  1.378435  0.376536\n",
      "Ohio   -2.063078 -0.273716 -0.112475\n",
      "Texas   0.212767  0.015502  0.164772\n",
      "Oregon  0.188643 -0.595074  0.077918\n",
      "               b         d         e\n",
      "Utah    0.045957  1.378435  0.376536\n",
      "Ohio    2.063078  0.273716  0.112475\n",
      "Texas   0.212767  0.015502  0.164772\n",
      "Oregon  0.188643  0.595074  0.077918\n"
     ]
    }
   ],
   "source": [
    "# universal function on pandas objects\n",
    "\n",
    "frame = pd.DataFrame(np.random.randn(4, 3),\n",
    "                     columns=list('bde'), index=['Utah', 'Ohio', 'Texas', 'Oregon'])\n",
    "print(frame)\n",
    "print(np.abs(frame))"
   ]
  },
  {
   "cell_type": "code",
   "execution_count": 33,
   "metadata": {},
   "outputs": [
    {
     "name": "stdout",
     "output_type": "stream",
     "text": [
      "b    2.275845\n",
      "d    1.973509\n",
      "e    0.489011\n",
      "dtype: float64\n",
      "---\n",
      "Utah      1.424393\n",
      "Ohio      1.950603\n",
      "Texas     0.197265\n",
      "Oregon    0.783717\n",
      "dtype: float64\n"
     ]
    }
   ],
   "source": [
    "# apply a function to each column or row\n",
    "delta = lambda x: x.max() - x.min()\n",
    "\n",
    "print(frame.apply(delta))\n",
    "print('---')\n",
    "print(frame.apply(delta, axis='columns'))"
   ]
  },
  {
   "cell_type": "code",
   "execution_count": 34,
   "metadata": {},
   "outputs": [
    {
     "name": "stdout",
     "output_type": "stream",
     "text": [
      "            b         d         e\n",
      "min -2.063078 -0.595074 -0.112475\n",
      "max  0.212767  1.378435  0.376536\n"
     ]
    }
   ],
   "source": [
    "# applied function could return a series\n",
    "delta = lambda x: pd.Series([x.min(), x.max()], index=['min', 'max'])\n",
    "print(frame.apply(delta))"
   ]
  },
  {
   "cell_type": "code",
   "execution_count": 35,
   "metadata": {},
   "outputs": [
    {
     "name": "stdout",
     "output_type": "stream",
     "text": [
      "            b      d      e\n",
      "Utah    -0.05   1.38   0.38\n",
      "Ohio    -2.06  -0.27  -0.11\n",
      "Texas    0.21   0.02   0.16\n",
      "Oregon   0.19  -0.60   0.08\n"
     ]
    }
   ],
   "source": [
    "# use applymap to format data\n",
    "formatter = lambda x: '{:.2f}'.format(x)\n",
    "print(frame.applymap(formatter))"
   ]
  },
  {
   "cell_type": "code",
   "execution_count": 37,
   "metadata": {},
   "outputs": [
    {
     "data": {
      "text/plain": [
       "Utah       0.38\n",
       "Ohio      -0.11\n",
       "Texas      0.16\n",
       "Oregon     0.08\n",
       "Name: e, dtype: object"
      ]
     },
     "execution_count": 37,
     "metadata": {},
     "output_type": "execute_result"
    }
   ],
   "source": [
    "# on Series, map() does the trick\n",
    "frame['e'].map(formatter)"
   ]
  },
  {
   "cell_type": "markdown",
   "metadata": {},
   "source": [
    "## Sorting and ranking"
   ]
  },
  {
   "cell_type": "code",
   "execution_count": 38,
   "metadata": {},
   "outputs": [
    {
     "name": "stdout",
     "output_type": "stream",
     "text": [
      "d    0\n",
      "a    1\n",
      "b    2\n",
      "c    3\n",
      "dtype: int64\n",
      "a    1\n",
      "b    2\n",
      "c    3\n",
      "d    0\n",
      "dtype: int64\n"
     ]
    }
   ],
   "source": [
    "# sort index for a series\n",
    "\n",
    "obj = pd.Series(range(4), index=['d', 'a', 'b', 'c'])\n",
    "print(obj)\n",
    "print(obj.sort_index())"
   ]
  },
  {
   "cell_type": "code",
   "execution_count": 39,
   "metadata": {},
   "outputs": [
    {
     "name": "stdout",
     "output_type": "stream",
     "text": [
      "       d  a  b  c\n",
      "three  0  1  2  3\n",
      "one    4  5  6  7\n",
      "       d  a  b  c\n",
      "one    4  5  6  7\n",
      "three  0  1  2  3\n",
      "       a  b  c  d\n",
      "three  1  2  3  0\n",
      "one    5  6  7  4\n",
      "       d  c  b  a\n",
      "three  0  3  2  1\n",
      "one    4  7  6  5\n"
     ]
    }
   ],
   "source": [
    "# sort dataframe index or column names\n",
    "frame = pd.DataFrame(np.arange(8).reshape((2, 4)),\n",
    "                     index=['three', 'one'], columns=['d', 'a', 'b', 'c'])\n",
    "print(frame)\n",
    "print(frame.sort_index())\n",
    "print(frame.sort_index(axis=1))\n",
    "print(frame.sort_index(axis=1, ascending=False))"
   ]
  },
  {
   "cell_type": "code",
   "execution_count": 40,
   "metadata": {},
   "outputs": [
    {
     "name": "stdout",
     "output_type": "stream",
     "text": [
      "0    4\n",
      "1    7\n",
      "2   -3\n",
      "3    2\n",
      "dtype: int64\n",
      "2   -3\n",
      "3    2\n",
      "0    4\n",
      "1    7\n",
      "dtype: int64\n",
      "Missing values by default at the end\n",
      "0    4.0\n",
      "1    NaN\n",
      "2    7.0\n",
      "3    NaN\n",
      "4   -3.0\n",
      "5    2.0\n",
      "dtype: float64\n",
      "4   -3.0\n",
      "5    2.0\n",
      "0    4.0\n",
      "2    7.0\n",
      "1    NaN\n",
      "3    NaN\n",
      "dtype: float64\n",
      "1    NaN\n",
      "3    NaN\n",
      "4   -3.0\n",
      "5    2.0\n",
      "0    4.0\n",
      "2    7.0\n",
      "dtype: float64\n"
     ]
    }
   ],
   "source": [
    "# sort by values\n",
    "obj = pd.Series([4, 7, -3, 2])\n",
    "print(obj)\n",
    "print(obj.sort_values())\n",
    "print('Missing values by default at the end')\n",
    "obj = pd.Series([4, np.nan, 7, np.nan, -3, 2])\n",
    "print(obj)\n",
    "print(obj.sort_values())\n",
    "print(obj.sort_values(na_position='first'))"
   ]
  },
  {
   "cell_type": "code",
   "execution_count": 41,
   "metadata": {},
   "outputs": [
    {
     "name": "stdout",
     "output_type": "stream",
     "text": [
      "   a  b\n",
      "0  0  4\n",
      "1  1  7\n",
      "2  0 -3\n",
      "3  1  2\n",
      "   a  b\n",
      "2  0 -3\n",
      "3  1  2\n",
      "0  0  4\n",
      "1  1  7\n",
      "   a  b\n",
      "2  0 -3\n",
      "0  0  4\n",
      "3  1  2\n",
      "1  1  7\n"
     ]
    }
   ],
   "source": [
    "frame = pd.DataFrame({'b': [4, 7, -3, 2], 'a': [0, 1, 0, 1]})\n",
    "print(frame)\n",
    "print(frame.sort_values(by='b'))\n",
    "print(frame.sort_values(by=['a', 'b']))"
   ]
  },
  {
   "cell_type": "code",
   "execution_count": 42,
   "metadata": {},
   "outputs": [
    {
     "name": "stdout",
     "output_type": "stream",
     "text": [
      "0    7\n",
      "1   -5\n",
      "2    7\n",
      "3    4\n",
      "4    2\n",
      "5    0\n",
      "6    4\n",
      "dtype: int64\n",
      "0    6.5\n",
      "1    1.0\n",
      "2    6.5\n",
      "3    4.5\n",
      "4    3.0\n",
      "5    2.0\n",
      "6    4.5\n",
      "dtype: float64\n",
      "0    6.0\n",
      "1    1.0\n",
      "2    7.0\n",
      "3    4.0\n",
      "4    3.0\n",
      "5    2.0\n",
      "6    5.0\n",
      "dtype: float64\n",
      "0    7.0\n",
      "1    1.0\n",
      "2    7.0\n",
      "3    5.0\n",
      "4    3.0\n",
      "5    2.0\n",
      "6    5.0\n",
      "dtype: float64\n",
      "0    2.0\n",
      "1    7.0\n",
      "2    2.0\n",
      "3    4.0\n",
      "4    5.0\n",
      "5    6.0\n",
      "6    4.0\n",
      "dtype: float64\n"
     ]
    }
   ],
   "source": [
    "# ranking\n",
    "obj = pd.Series([7, -5, 7, 4, 2, 0, 4])\n",
    "print(obj)\n",
    "print(obj.rank())\n",
    "print(obj.rank(method='first'))\n",
    "print(obj.rank(method='max'))\n",
    "print(obj.rank(ascending=False, method='max'))"
   ]
  },
  {
   "cell_type": "code",
   "execution_count": 43,
   "metadata": {},
   "outputs": [
    {
     "name": "stdout",
     "output_type": "stream",
     "text": [
      "   a    b    c\n",
      "0  0  4.3 -2.0\n",
      "1  1  7.0  5.0\n",
      "2  0 -3.0  8.0\n",
      "3  1  2.0 -2.5\n",
      "     a    b    c\n",
      "0  2.0  3.0  1.0\n",
      "1  1.0  3.0  2.0\n",
      "2  2.0  1.0  3.0\n",
      "3  2.0  3.0  1.0\n",
      "     a    b    c\n",
      "0  1.5  3.0  2.0\n",
      "1  3.5  4.0  3.0\n",
      "2  1.5  1.0  4.0\n",
      "3  3.5  2.0  1.0\n"
     ]
    }
   ],
   "source": [
    "frame = pd.DataFrame(\n",
    "    {'b': [4.3, 7, -3, 2], 'a': [0, 1, 0, 1], 'c': [-2, 5, 8, -2.5]})\n",
    "print(frame)\n",
    "print(frame.rank(axis='columns'))\n",
    "print(frame.rank())"
   ]
  },
  {
   "cell_type": "markdown",
   "metadata": {},
   "source": [
    "## Axis Indexes with Duplicate Labels"
   ]
  },
  {
   "cell_type": "code",
   "execution_count": 44,
   "metadata": {},
   "outputs": [
    {
     "name": "stdout",
     "output_type": "stream",
     "text": [
      "a    0\n",
      "a    1\n",
      "b    2\n",
      "b    3\n",
      "c    4\n",
      "dtype: int64\n",
      "False\n",
      "a    0\n",
      "a    1\n",
      "dtype: int64\n",
      "4\n"
     ]
    }
   ],
   "source": [
    "# a Series could have duplicate indices\n",
    "obj = pd.Series(range(5), index=['a', 'a', 'b', 'b', 'c'])\n",
    "print(obj)\n",
    "print(obj.index.is_unique)\n",
    "print(obj['a'])\n",
    "print(obj['c'])"
   ]
  },
  {
   "cell_type": "code",
   "execution_count": null,
   "metadata": {},
   "outputs": [],
   "source": [
    "# same for dataframe\n",
    "df = pd.DataFrame(np.random.randn(4, 3), index=['a', 'a', 'b', 'b'])\n",
    "print(df)\n",
    "print(df.loc['b'])"
   ]
  },
  {
   "cell_type": "markdown",
   "metadata": {},
   "source": [
    "## Summarizing and Computing Descriptive Statistics"
   ]
  },
  {
   "cell_type": "code",
   "execution_count": 45,
   "metadata": {},
   "outputs": [
    {
     "data": {
      "text/html": [
       "<div>\n",
       "<style scoped>\n",
       "    .dataframe tbody tr th:only-of-type {\n",
       "        vertical-align: middle;\n",
       "    }\n",
       "\n",
       "    .dataframe tbody tr th {\n",
       "        vertical-align: top;\n",
       "    }\n",
       "\n",
       "    .dataframe thead th {\n",
       "        text-align: right;\n",
       "    }\n",
       "</style>\n",
       "<table border=\"1\" class=\"dataframe\">\n",
       "  <thead>\n",
       "    <tr style=\"text-align: right;\">\n",
       "      <th></th>\n",
       "      <th>one</th>\n",
       "      <th>two</th>\n",
       "    </tr>\n",
       "  </thead>\n",
       "  <tbody>\n",
       "    <tr>\n",
       "      <th>a</th>\n",
       "      <td>1.40</td>\n",
       "      <td>NaN</td>\n",
       "    </tr>\n",
       "    <tr>\n",
       "      <th>b</th>\n",
       "      <td>7.10</td>\n",
       "      <td>-4.5</td>\n",
       "    </tr>\n",
       "    <tr>\n",
       "      <th>c</th>\n",
       "      <td>NaN</td>\n",
       "      <td>NaN</td>\n",
       "    </tr>\n",
       "    <tr>\n",
       "      <th>d</th>\n",
       "      <td>0.75</td>\n",
       "      <td>-1.3</td>\n",
       "    </tr>\n",
       "  </tbody>\n",
       "</table>\n",
       "</div>"
      ],
      "text/plain": [
       "    one  two\n",
       "a  1.40  NaN\n",
       "b  7.10 -4.5\n",
       "c   NaN  NaN\n",
       "d  0.75 -1.3"
      ]
     },
     "execution_count": 45,
     "metadata": {},
     "output_type": "execute_result"
    }
   ],
   "source": [
    "df = pd.DataFrame([[1.4, np.nan], [7.1, -4.5], [np.nan, np.nan], [0.75, -1.3]],\n",
    "                  index=['a', 'b', 'c', 'd'], columns=['one', 'two'])\n",
    "df"
   ]
  },
  {
   "cell_type": "code",
   "execution_count": 46,
   "metadata": {},
   "outputs": [
    {
     "data": {
      "text/plain": [
       "one    9.25\n",
       "two   -5.80\n",
       "dtype: float64"
      ]
     },
     "execution_count": 46,
     "metadata": {},
     "output_type": "execute_result"
    }
   ],
   "source": [
    "# DataFrame.sum() returns a Series containing column sums\n",
    "df.sum()"
   ]
  },
  {
   "cell_type": "code",
   "execution_count": 52,
   "metadata": {},
   "outputs": [
    {
     "name": "stdout",
     "output_type": "stream",
     "text": [
      "a    1.40\n",
      "b    2.60\n",
      "c    0.00\n",
      "d   -0.55\n",
      "dtype: float64\n",
      "a    1.40\n",
      "b    2.60\n",
      "c    0.00\n",
      "d   -0.55\n",
      "dtype: float64\n",
      "one    9.25\n",
      "two   -5.80\n",
      "dtype: float64\n",
      "one    9.25\n",
      "two   -5.80\n",
      "dtype: float64\n"
     ]
    }
   ],
   "source": [
    "# sum on columns\n",
    "print(df.sum(axis='columns'))\n",
    "print(df.sum(axis=1))\n",
    "\n",
    "# default is index\n",
    "print(df.sum(axis=0))\n",
    "print(df.sum(axis='index'))"
   ]
  },
  {
   "cell_type": "code",
   "execution_count": 53,
   "metadata": {},
   "outputs": [
    {
     "name": "stdout",
     "output_type": "stream",
     "text": [
      "a    1.400\n",
      "b    1.300\n",
      "c      NaN\n",
      "d   -0.275\n",
      "dtype: float64\n",
      "a      NaN\n",
      "b    1.300\n",
      "c      NaN\n",
      "d   -0.275\n",
      "dtype: float64\n"
     ]
    }
   ],
   "source": [
    "# By default, NA values are excluded unless the entire slice is NA\n",
    "print(df.mean(axis='columns'))\n",
    "print(df.mean(axis='columns', skipna=False))"
   ]
  },
  {
   "cell_type": "code",
   "execution_count": 56,
   "metadata": {},
   "outputs": [
    {
     "name": "stdout",
     "output_type": "stream",
     "text": [
      "one    b\n",
      "two    d\n",
      "dtype: object\n",
      "one    d\n",
      "two    b\n",
      "dtype: object\n"
     ]
    }
   ],
   "source": [
    "print(df.idxmax())\n",
    "print(df.idxmin())"
   ]
  },
  {
   "cell_type": "code",
   "execution_count": 63,
   "metadata": {},
   "outputs": [
    {
     "name": "stdout",
     "output_type": "stream",
     "text": [
      "    one  two\n",
      "a  1.40  NaN\n",
      "b  7.10 -4.5\n",
      "c   NaN  NaN\n",
      "d  0.75 -1.3\n",
      "    one  two\n",
      "a  1.40  NaN\n",
      "b  8.50 -4.5\n",
      "c   NaN  NaN\n",
      "d  9.25 -5.8\n",
      "    one   two\n",
      "a  1.40   NaN\n",
      "b  7.10  2.60\n",
      "c   NaN   NaN\n",
      "d  0.75 -0.55\n"
     ]
    }
   ],
   "source": [
    "# comulative sum\n",
    "print(df)\n",
    "print(df.cumsum())\n",
    "print(df.cumsum(axis='columns'))"
   ]
  },
  {
   "cell_type": "code",
   "execution_count": 67,
   "metadata": {},
   "outputs": [
    {
     "name": "stdout",
     "output_type": "stream",
     "text": [
      "            one       two\n",
      "count  3.000000  2.000000\n",
      "mean   3.083333 -2.900000\n",
      "std    3.493685  2.262742\n",
      "min    0.750000 -4.500000\n",
      "25%    1.075000 -3.700000\n",
      "50%    1.400000 -2.900000\n",
      "75%    4.250000 -2.100000\n",
      "max    7.100000 -1.300000\n",
      "---\n",
      "0     a\n",
      "1     a\n",
      "2     b\n",
      "3     c\n",
      "4     a\n",
      "5     a\n",
      "6     b\n",
      "7     c\n",
      "8     a\n",
      "9     a\n",
      "10    b\n",
      "11    c\n",
      "12    a\n",
      "13    a\n",
      "14    b\n",
      "15    c\n",
      "dtype: object\n",
      "count     16\n",
      "unique     3\n",
      "top        a\n",
      "freq       8\n",
      "dtype: object\n"
     ]
    }
   ],
   "source": [
    "print(df.describe())\n",
    "print('---')\n",
    "obj = pd.Series(['a', 'a', 'b', 'c'] * 4)\n",
    "print(obj)\n",
    "print(obj.describe())"
   ]
  },
  {
   "cell_type": "markdown",
   "metadata": {},
   "source": [
    "## Unique Values, Value Counts, and Membership"
   ]
  },
  {
   "cell_type": "code",
   "execution_count": 80,
   "metadata": {},
   "outputs": [
    {
     "name": "stdout",
     "output_type": "stream",
     "text": [
      "['c' 'a' 'd' 'b']\n",
      "['a' 'b' 'c' 'd']\n",
      "a    3\n",
      "c    3\n",
      "b    2\n",
      "d    1\n",
      "dtype: int64\n",
      "c    3\n",
      "d    1\n",
      "a    3\n",
      "b    2\n",
      "dtype: int64\n",
      "a    3\n",
      "c    3\n",
      "b    2\n",
      "d    1\n",
      "dtype: int64\n"
     ]
    }
   ],
   "source": [
    "obj = pd.Series(['c', 'a', 'd', 'a', 'a', 'b', 'b', 'c', 'c'])\n",
    "uniques = obj.unique()\n",
    "print(uniques)\n",
    "uniques.sort()\n",
    "print(uniques)\n",
    "print(obj.value_counts())\n",
    "print(pd.value_counts(obj.values, sort=False))\n",
    "print(pd.value_counts(obj.values))"
   ]
  },
  {
   "cell_type": "code",
   "execution_count": 84,
   "metadata": {},
   "outputs": [
    {
     "name": "stdout",
     "output_type": "stream",
     "text": [
      "0    c\n",
      "1    a\n",
      "2    d\n",
      "3    a\n",
      "4    a\n",
      "5    b\n",
      "6    b\n",
      "7    c\n",
      "8    c\n",
      "dtype: object\n",
      "0     True\n",
      "1    False\n",
      "2    False\n",
      "3    False\n",
      "4    False\n",
      "5     True\n",
      "6     True\n",
      "7     True\n",
      "8     True\n",
      "dtype: bool\n",
      "0    c\n",
      "5    b\n",
      "6    b\n",
      "7    c\n",
      "8    c\n",
      "dtype: object\n"
     ]
    }
   ],
   "source": [
    "print(obj)\n",
    "mask = obj.isin(['b', 'c'])\n",
    "print(mask)\n",
    "print(obj[mask])"
   ]
  },
  {
   "cell_type": "code",
   "execution_count": 85,
   "metadata": {},
   "outputs": [
    {
     "data": {
      "text/plain": [
       "array([0, 2, 1, 1, 0, 2], dtype=int64)"
      ]
     },
     "execution_count": 85,
     "metadata": {},
     "output_type": "execute_result"
    }
   ],
   "source": [
    "to_match = pd.Series(['c', 'a', 'b', 'b', 'c', 'a'])\n",
    "unique_vals = pd.Series(['c', 'b', 'a'])\n",
    "pd.Index(unique_vals).get_indexer(to_match)"
   ]
  },
  {
   "cell_type": "code",
   "execution_count": 90,
   "metadata": {},
   "outputs": [
    {
     "name": "stdout",
     "output_type": "stream",
     "text": [
      "   Qu1  Qu2  Qu3\n",
      "0    1    2    1\n",
      "1    3    3    5\n",
      "2    4    1    2\n",
      "3    3    2    4\n",
      "4    4    3    4\n",
      "   Qu1  Qu2  Qu3\n",
      "1  1.0  1.0  1.0\n",
      "2  0.0  2.0  1.0\n",
      "3  2.0  2.0  0.0\n",
      "4  2.0  0.0  2.0\n",
      "5  0.0  0.0  1.0\n"
     ]
    }
   ],
   "source": [
    "data = pd.DataFrame({'Qu1': [1, 3, 4, 3, 4], \n",
    "                     'Qu2': [2, 3, 1, 2, 3],\n",
    "                     'Qu3': [1, 5, 2, 4, 4]})\n",
    "print(data)\n",
    "\n",
    "result = data.apply(pd.value_counts).fillna(0)\n",
    "print(result)"
   ]
  }
 ],
 "metadata": {
  "kernelspec": {
   "display_name": "Python 3",
   "language": "python",
   "name": "python3"
  },
  "language_info": {
   "codemirror_mode": {
    "name": "ipython",
    "version": 3
   },
   "file_extension": ".py",
   "mimetype": "text/x-python",
   "name": "python",
   "nbconvert_exporter": "python",
   "pygments_lexer": "ipython3",
   "version": "3.6.4"
  }
 },
 "nbformat": 4,
 "nbformat_minor": 2
}
