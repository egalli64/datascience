{
 "cells": [
  {
   "cell_type": "markdown",
   "metadata": {},
   "source": [
    "_My notebook on_\n",
    "# Python for Data Analysis - Wes McKinney\n",
    "## Chapter 4 - NumPy Basics: Arrays and Vectorized Computation\n",
    "### Part 1 - The NumPy ndarray: A Multidimensional Array Object"
   ]
  },
  {
   "cell_type": "code",
   "execution_count": 1,
   "metadata": {},
   "outputs": [],
   "source": [
    "import numpy as np"
   ]
  },
  {
   "cell_type": "code",
   "execution_count": 2,
   "metadata": {},
   "outputs": [
    {
     "data": {
      "text/plain": [
       "(numpy.ndarray, list)"
      ]
     },
     "execution_count": 2,
     "metadata": {},
     "output_type": "execute_result"
    }
   ],
   "source": [
    "# comparing numpy ndarray with plain list\n",
    "an_array = np.arange(1000000)\n",
    "a_list = list(range(1000000))\n",
    "type(an_array), type(a_list)"
   ]
  },
  {
   "cell_type": "code",
   "execution_count": 3,
   "metadata": {},
   "outputs": [
    {
     "name": "stdout",
     "output_type": "stream",
     "text": [
      "Wall time: 83.3 ms\n"
     ]
    }
   ],
   "source": [
    "%time for _ in range(10): an_array * 2"
   ]
  },
  {
   "cell_type": "code",
   "execution_count": 4,
   "metadata": {},
   "outputs": [
    {
     "name": "stdout",
     "output_type": "stream",
     "text": [
      "Wall time: 1 s\n"
     ]
    }
   ],
   "source": [
    "%time for _ in range(10): [x * 2 for x in a_list]"
   ]
  },
  {
   "cell_type": "code",
   "execution_count": 5,
   "metadata": {},
   "outputs": [
    {
     "data": {
      "text/plain": [
       "array([[-0.77083469,  0.23786738,  0.68164017],\n",
       "       [ 0.21080361, -0.41094009,  1.33501061]])"
      ]
     },
     "execution_count": 5,
     "metadata": {},
     "output_type": "execute_result"
    }
   ],
   "source": [
    "# 2-d ndarray, 2x3 random numbers from gaussian distribution\n",
    "data = np.random.randn(2, 3)\n",
    "data"
   ]
  },
  {
   "cell_type": "code",
   "execution_count": 6,
   "metadata": {},
   "outputs": [
    {
     "data": {
      "text/plain": [
       "array([[-7.70834693,  2.37867381,  6.8164017 ],\n",
       "       [ 2.10803611, -4.10940092, 13.35010614]])"
      ]
     },
     "execution_count": 6,
     "metadata": {},
     "output_type": "execute_result"
    }
   ],
   "source": [
    "# operation is applied to each value in the array\n",
    "data * 10"
   ]
  },
  {
   "cell_type": "code",
   "execution_count": 7,
   "metadata": {},
   "outputs": [
    {
     "data": {
      "text/plain": [
       "((2, 3), dtype('float64'), 2)"
      ]
     },
     "execution_count": 7,
     "metadata": {},
     "output_type": "execute_result"
    }
   ],
   "source": [
    "# noteworthy ndarray attributes\n",
    "data.shape, data.dtype, data.ndim"
   ]
  },
  {
   "cell_type": "code",
   "execution_count": 8,
   "metadata": {},
   "outputs": [
    {
     "data": {
      "text/plain": [
       "array([3, 5, 6, 8])"
      ]
     },
     "execution_count": 8,
     "metadata": {},
     "output_type": "execute_result"
    }
   ],
   "source": [
    "# costructor from a sequence-like object, like a list\n",
    "d = np.array([3, 5, 6, 8])\n",
    "d"
   ]
  },
  {
   "cell_type": "code",
   "execution_count": 9,
   "metadata": {},
   "outputs": [
    {
     "data": {
      "text/plain": [
       "array([[ 3. ,  5. ,  6. ,  8. ],\n",
       "       [34. ,  0.5,  2. ,  3. ]])"
      ]
     },
     "execution_count": 9,
     "metadata": {},
     "output_type": "execute_result"
    }
   ],
   "source": [
    "# nested sequences lead to multidimesional array\n",
    "d2 = np.array([[3, 5, 6, 8], [34, .5, 2, 3]])\n",
    "d2"
   ]
  },
  {
   "cell_type": "code",
   "execution_count": 10,
   "metadata": {},
   "outputs": [
    {
     "data": {
      "text/plain": [
       "(array([[0., 0., 0.],\n",
       "        [0., 0., 0.],\n",
       "        [0., 0., 0.],\n",
       "        [0., 0., 0.]]), array([0, 0, 0]))"
      ]
     },
     "execution_count": 10,
     "metadata": {},
     "output_type": "execute_result"
    }
   ],
   "source": [
    "# arrays of zeroes\n",
    "np.zeros((4, 3)), np.zeros(3, int)"
   ]
  },
  {
   "cell_type": "code",
   "execution_count": 11,
   "metadata": {},
   "outputs": [
    {
     "data": {
      "text/plain": [
       "array([[[ 3. ,  5. ],\n",
       "        [ 6. ,  8. ]],\n",
       "\n",
       "       [[34. ,  0.5],\n",
       "        [ 2. ,  3. ]]])"
      ]
     },
     "execution_count": 11,
     "metadata": {},
     "output_type": "execute_result"
    }
   ],
   "source": [
    "# uninitialized array\n",
    "np.empty((2, 2, 2))"
   ]
  },
  {
   "cell_type": "code",
   "execution_count": 12,
   "metadata": {},
   "outputs": [
    {
     "data": {
      "text/plain": [
       "array([[1, 0, 0, 0],\n",
       "       [0, 1, 0, 0],\n",
       "       [0, 0, 1, 0],\n",
       "       [0, 0, 0, 1]])"
      ]
     },
     "execution_count": 12,
     "metadata": {},
     "output_type": "execute_result"
    }
   ],
   "source": [
    "np.identity(4, int)"
   ]
  },
  {
   "cell_type": "code",
   "execution_count": 13,
   "metadata": {},
   "outputs": [
    {
     "data": {
      "text/plain": [
       "array([[1, 0, 0, 0, 0],\n",
       "       [0, 1, 0, 0, 0],\n",
       "       [0, 0, 1, 0, 0],\n",
       "       [0, 0, 0, 1, 0]], dtype=int8)"
      ]
     },
     "execution_count": 13,
     "metadata": {},
     "output_type": "execute_result"
    }
   ],
   "source": [
    "np.eye(4, 5, dtype=np.int8)"
   ]
  },
  {
   "cell_type": "code",
   "execution_count": 14,
   "metadata": {},
   "outputs": [
    {
     "data": {
      "text/plain": [
       "array([[1., 2., 3.],\n",
       "       [4., 5., 6.]])"
      ]
     },
     "execution_count": 14,
     "metadata": {},
     "output_type": "execute_result"
    }
   ],
   "source": [
    "# vectorization\n",
    "arr = np.array([[1., 2., 3.], [4., 5., 6.]])\n",
    "arr"
   ]
  },
  {
   "cell_type": "code",
   "execution_count": 15,
   "metadata": {},
   "outputs": [
    {
     "data": {
      "text/plain": [
       "array([[1.        , 0.5       , 0.33333333],\n",
       "       [0.25      , 0.2       , 0.16666667]])"
      ]
     },
     "execution_count": 15,
     "metadata": {},
     "output_type": "execute_result"
    }
   ],
   "source": [
    "1 / arr"
   ]
  },
  {
   "cell_type": "code",
   "execution_count": 16,
   "metadata": {},
   "outputs": [
    {
     "data": {
      "text/plain": [
       "array([[1.        , 1.41421356, 1.73205081],\n",
       "       [2.        , 2.23606798, 2.44948974]])"
      ]
     },
     "execution_count": 16,
     "metadata": {},
     "output_type": "execute_result"
    }
   ],
   "source": [
    "arr ** 0.5"
   ]
  },
  {
   "cell_type": "code",
   "execution_count": 17,
   "metadata": {},
   "outputs": [],
   "source": [
    "arr2 = np.array([[0., 4., 1.], [7., 2., 12.]])"
   ]
  },
  {
   "cell_type": "code",
   "execution_count": 18,
   "metadata": {},
   "outputs": [
    {
     "data": {
      "text/plain": [
       "array([[False,  True, False],\n",
       "       [ True, False,  True]])"
      ]
     },
     "execution_count": 18,
     "metadata": {},
     "output_type": "execute_result"
    }
   ],
   "source": [
    "arr2 > arr"
   ]
  },
  {
   "cell_type": "code",
   "execution_count": 19,
   "metadata": {},
   "outputs": [
    {
     "name": "stdout",
     "output_type": "stream",
     "text": [
      "[0 1 2 3 4 5 6 7 8 9]\n",
      "[ 0  1  2  3  4 12 12 12  8  9]\n"
     ]
    }
   ],
   "source": [
    "# broadcasting a value to a slice\n",
    "arr = np.arange(10)\n",
    "print(arr)\n",
    "arr[5:8] = 12\n",
    "print(arr)"
   ]
  },
  {
   "cell_type": "code",
   "execution_count": 20,
   "metadata": {},
   "outputs": [
    {
     "name": "stdout",
     "output_type": "stream",
     "text": [
      "[12 12 12]\n",
      "[12 42 12] [ 0  1  2  3  4 12 42 12  8  9]\n",
      "[-1 -1 -1] [ 0  1  2  3  4 -1 -1 -1  8  9]\n"
     ]
    }
   ],
   "source": [
    "# an array slice is a view, not a copy\n",
    "ar_slice = arr[5:8]\n",
    "print(ar_slice)\n",
    "ar_slice[1] = 42\n",
    "print(ar_slice, arr)\n",
    "\n",
    "# bare slice assignment\n",
    "ar_slice[:] = -1\n",
    "print(ar_slice, arr)"
   ]
  },
  {
   "cell_type": "code",
   "execution_count": 21,
   "metadata": {},
   "outputs": [
    {
     "name": "stdout",
     "output_type": "stream",
     "text": [
      "[[1 2 3]\n",
      " [4 5 6]\n",
      " [7 8 9]] \n",
      "\n",
      " [7 8 9] \n",
      "\n",
      " 3 == 3\n"
     ]
    }
   ],
   "source": [
    "# 2D array\n",
    "arr2d = np.array([[1, 2, 3], [4, 5, 6], [7, 8, 9]])\n",
    "print(arr2d, '\\n\\n', arr2d[2], '\\n\\n', arr2d[0][2], '==', arr2d[0, 2])"
   ]
  },
  {
   "cell_type": "code",
   "execution_count": 22,
   "metadata": {},
   "outputs": [
    {
     "name": "stdout",
     "output_type": "stream",
     "text": [
      "[[[ 1  2  3]\n",
      "  [ 4  5  6]]\n",
      "\n",
      " [[ 7  8  9]\n",
      "  [10 11 12]]] \n",
      "\n",
      " [[1 2 3]\n",
      " [4 5 6]]\n",
      "broadcast of 42:\n",
      "[[[42 42 42]\n",
      "  [42 42 42]]\n",
      "\n",
      " [[ 7  8  9]\n",
      "  [10 11 12]]]\n",
      "array assignment:\n",
      "[[[ 1  2  3]\n",
      "  [ 4  5  6]]\n",
      "\n",
      " [[ 7  8  9]\n",
      "  [10 11 12]]]\n",
      "values with indices starting with (1, 0):\n",
      " [7 8 9] == [7 8 9]\n"
     ]
    }
   ],
   "source": [
    "# 3D array\n",
    "arr3d = np.array([[[1, 2, 3], [4, 5, 6]], [[7, 8, 9], [10, 11, 12]]])\n",
    "print(arr3d, '\\n\\n', arr3d[0])\n",
    "\n",
    "# assign a scalar to sub-array in numpy array\n",
    "backup = arr3d[0].copy()\n",
    "print('broadcast of 42:')\n",
    "arr3d[0] = 42\n",
    "print(arr3d)\n",
    "\n",
    "# assign an array to sub-array in numpy array\n",
    "print('array assignment:')\n",
    "arr3d[0] = backup\n",
    "print(arr3d)\n",
    "\n",
    "# slice from multidim array\n",
    "print('values with indices starting with (1, 0):\\n', arr3d[1,0], '==', arr3d[1][0])\n"
   ]
  },
  {
   "cell_type": "code",
   "execution_count": 23,
   "metadata": {},
   "outputs": [
    {
     "name": "stdout",
     "output_type": "stream",
     "text": [
      "[[1 2 3]\n",
      " [4 5 6]\n",
      " [7 8 9]]\n",
      "First two rows:\n",
      "[[1 2 3]\n",
      " [4 5 6]]\n",
      "First two rows, from second column on:\n",
      "[[2 3]\n",
      " [5 6]]\n",
      "Get a specific row - the second one - up to the second column:\n",
      "[4 5]\n",
      "Get a specific column - the third one - first two rows:\n",
      "[3 6]\n",
      "All rows, first column only:\n",
      "[[1]\n",
      " [4]\n",
      " [7]]\n"
     ]
    }
   ],
   "source": [
    "# 2D slicing\n",
    "print(arr2d)\n",
    "print('First two rows:')\n",
    "print(arr2d[:2])\n",
    "print('First two rows, from second column on:')\n",
    "print(arr2d[:2, 1:])\n",
    "print('Get a specific row - the second one - up to the second column:')\n",
    "print(arr2d[1, :2])\n",
    "print('Get a specific column - the third one - first two rows:')\n",
    "print(arr2d[:2, 2])\n",
    "print('All rows, first column only:')\n",
    "print(arr2d[:, :1])\n"
   ]
  },
  {
   "cell_type": "code",
   "execution_count": 24,
   "metadata": {},
   "outputs": [
    {
     "name": "stdout",
     "output_type": "stream",
     "text": [
      "Full data:\n",
      "[[ 1.25655431  0.69117979 -0.36603784  0.3886745 ]\n",
      " [ 0.4503915   0.29649378  0.01557227 -1.63843521]\n",
      " [ 0.23849015 -0.07426864 -0.99157863  0.11937829]\n",
      " [-0.25257432 -0.3716524  -2.22789551  0.40396519]\n",
      " [ 0.59664815  1.7325264  -2.29762654  1.91035665]\n",
      " [ 2.51043723 -0.92332618 -0.86072633  0.29370507]\n",
      " [-2.0796022  -0.44730305 -0.31722299  0.37599277]]\n",
      "\"Bob\" data:\n",
      "[[ 1.25655431  0.69117979 -0.36603784  0.3886745 ]\n",
      " [-0.25257432 -0.3716524  -2.22789551  0.40396519]]\n",
      "\"Bob\" data from column 2 on:\n",
      "[[-0.36603784  0.3886745 ]\n",
      " [-2.22789551  0.40396519]]\n",
      "\"Bob\" data, only from column 3:\n",
      "[0.3886745  0.40396519]\n",
      "Not \"Bob\" data:\n",
      "[[ 0.4503915   0.29649378  0.01557227 -1.63843521]\n",
      " [ 0.23849015 -0.07426864 -0.99157863  0.11937829]\n",
      " [ 0.59664815  1.7325264  -2.29762654  1.91035665]\n",
      " [ 2.51043723 -0.92332618 -0.86072633  0.29370507]\n",
      " [-2.0796022  -0.44730305 -0.31722299  0.37599277]]\n",
      "Not \"Bob\" data, again:\n",
      "[[ 0.4503915   0.29649378  0.01557227 -1.63843521]\n",
      " [ 0.23849015 -0.07426864 -0.99157863  0.11937829]\n",
      " [ 0.59664815  1.7325264  -2.29762654  1.91035665]\n",
      " [ 2.51043723 -0.92332618 -0.86072633  0.29370507]\n",
      " [-2.0796022  -0.44730305 -0.31722299  0.37599277]]\n",
      "\"Bob or Will\" data:\n",
      "[[ 1.25655431  0.69117979 -0.36603784  0.3886745 ]\n",
      " [ 0.23849015 -0.07426864 -0.99157863  0.11937829]\n",
      " [-0.25257432 -0.3716524  -2.22789551  0.40396519]\n",
      " [ 0.59664815  1.7325264  -2.29762654  1.91035665]]\n",
      "Negative values defaulted to zero:\n",
      "[[1.25655431 0.69117979 0.         0.3886745 ]\n",
      " [0.4503915  0.29649378 0.01557227 0.        ]\n",
      " [0.23849015 0.         0.         0.11937829]\n",
      " [0.         0.         0.         0.40396519]\n",
      " [0.59664815 1.7325264  0.         1.91035665]\n",
      " [2.51043723 0.         0.         0.29370507]\n",
      " [0.         0.         0.         0.37599277]]\n"
     ]
    }
   ],
   "source": [
    "# Boolean indexing (always leads to copy)\n",
    "names = np.array(['Bob', 'Joe', 'Will', 'Bob', 'Will', 'Joe', 'Joe'])\n",
    "data = np.random.randn(7, 4)\n",
    "\n",
    "print('Full data:')\n",
    "print(data)\n",
    "print('\"Bob\" data:')\n",
    "print(data[names == 'Bob'])\n",
    "print('\"Bob\" data from column 2 on:')\n",
    "print(data[names == 'Bob', 2:])\n",
    "print('\"Bob\" data, only from column 3:')\n",
    "print(data[names == 'Bob', 3])\n",
    "print('Not \"Bob\" data:')\n",
    "print(data[names != 'Bob'])\n",
    "print('Not \"Bob\" data, again:')\n",
    "print(data[~(names == 'Bob')])\n",
    "print('\"Bob or Will\" data:')\n",
    "print(data[(names == 'Bob') | (names == 'Will')])  # careful with precedence\n",
    "\n",
    "# broadcasting values through boolean indexing\n",
    "print('Negative values defaulted to zero:')\n",
    "data[data < 0] = 0\n",
    "print(data)"
   ]
  },
  {
   "cell_type": "code",
   "execution_count": 32,
   "metadata": {},
   "outputs": [
    {
     "name": "stdout",
     "output_type": "stream",
     "text": [
      "[[0. 0. 0. 0.]\n",
      " [1. 1. 1. 1.]\n",
      " [2. 2. 2. 2.]\n",
      " [3. 3. 3. 3.]\n",
      " [4. 4. 4. 4.]\n",
      " [5. 5. 5. 5.]\n",
      " [6. 6. 6. 6.]\n",
      " [7. 7. 7. 7.]]\n",
      "Fancy indexing to select rows 4, 3, 0, 6:\n",
      "[[4. 4. 4. 4.]\n",
      " [3. 3. 3. 3.]\n",
      " [0. 0. 0. 0.]\n",
      " [6. 6. 6. 6.]]\n",
      "Fancy indexing with negative indices:\n",
      "[[5. 5. 5. 5.]\n",
      " [3. 3. 3. 3.]\n",
      " [1. 1. 1. 1.]]\n",
      "\n",
      " [[ 0  1  2  3]\n",
      " [ 4  5  6  7]\n",
      " [ 8  9 10 11]\n",
      " [12 13 14 15]\n",
      " [16 17 18 19]\n",
      " [20 21 22 23]\n",
      " [24 25 26 27]\n",
      " [28 29 30 31]]\n",
      "Picking elements passing their coordinates\n",
      "Get (1, 0), (5, 3), (7, 1), (2, 2): [ 4 23 29 10]\n"
     ]
    }
   ],
   "source": [
    "# Fancy indexing == indexing using integer arrays - the result is always a copy\n",
    "arr = np.empty((8, 4))\n",
    "for i in range(8):\n",
    "    arr[i] = i\n",
    "print(arr)\n",
    "\n",
    "print(\"Fancy indexing to select rows 4, 3, 0, 6:\")\n",
    "print(arr[[4, 3, 0, 6]])\n",
    "print(\"Fancy indexing with negative indices:\")\n",
    "print(arr[[-3, -5, -7]])\n",
    "\n",
    "arr = np.arange(32).reshape((8, 4))\n",
    "print('\\n',arr)\n",
    "print('Picking elements passing their coordinates')\n",
    "print('Get (1, 0), (5, 3), (7, 1), (2, 2):', arr[[1, 5, 7, 2], [0, 3, 1, 2]])"
   ]
  },
  {
   "cell_type": "code",
   "execution_count": 36,
   "metadata": {},
   "outputs": [
    {
     "name": "stdout",
     "output_type": "stream",
     "text": [
      "[[ 0  1  2  3]\n",
      " [ 4  5  6  7]\n",
      " [ 8  9 10 11]\n",
      " [12 13 14 15]\n",
      " [16 17 18 19]\n",
      " [20 21 22 23]\n",
      " [24 25 26 27]\n",
      " [28 29 30 31]]\n"
     ]
    },
    {
     "data": {
      "text/plain": [
       "array([[ 4,  7,  5,  6],\n",
       "       [20, 23, 21, 22],\n",
       "       [28, 31, 29, 30],\n",
       "       [ 8, 11,  9, 10]])"
      ]
     },
     "execution_count": 36,
     "metadata": {},
     "output_type": "execute_result"
    }
   ],
   "source": [
    "# fancy indexing to select rows and columns in a specific order\n",
    "print(arr)\n",
    "arr[[1, 5, 7, 2]][:, [0, 3, 1, 2]]"
   ]
  },
  {
   "cell_type": "code",
   "execution_count": 52,
   "metadata": {},
   "outputs": [
    {
     "name": "stdout",
     "output_type": "stream",
     "text": [
      "[[ 0  1  2  3  4]\n",
      " [ 5  6  7  8  9]\n",
      " [10 11 12 13 14]]\n",
      "Transposed to:\n",
      "[[ 0  5 10]\n",
      " [ 1  6 11]\n",
      " [ 2  7 12]\n",
      " [ 3  8 13]\n",
      " [ 4  9 14]]\n"
     ]
    }
   ],
   "source": [
    "# Transposing Arrays\n",
    "arr = np.arange(15).reshape((3, 5))\n",
    "print(arr)\n",
    "print('Transposed to:')\n",
    "print(arr.T)"
   ]
  }
 ],
 "metadata": {
  "kernelspec": {
   "display_name": "Python 3",
   "language": "python",
   "name": "python3"
  },
  "language_info": {
   "codemirror_mode": {
    "name": "ipython",
    "version": 3
   },
   "file_extension": ".py",
   "mimetype": "text/x-python",
   "name": "python",
   "nbconvert_exporter": "python",
   "pygments_lexer": "ipython3",
   "version": "3.6.4"
  }
 },
 "nbformat": 4,
 "nbformat_minor": 2
}
