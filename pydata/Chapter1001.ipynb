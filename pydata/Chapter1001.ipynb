{
 "cells": [
  {
   "cell_type": "markdown",
   "metadata": {},
   "source": [
    "_My notebook on_\n",
    "# Python for Data Analysis - Wes McKinney\n",
    "## Chapter 10 - Data Aggregation and Group Operations"
   ]
  },
  {
   "cell_type": "code",
   "execution_count": null,
   "metadata": {},
   "outputs": [],
   "source": [
    "import numpy as np\n",
    "import pandas as pd"
   ]
  },
  {
   "cell_type": "markdown",
   "metadata": {},
   "source": [
    "## Part 1 - GroupBy Mechanics"
   ]
  },
  {
   "cell_type": "code",
   "execution_count": null,
   "metadata": {},
   "outputs": [],
   "source": [
    "# given a DataFrame:\n",
    "df = pd.DataFrame({\n",
    "    'key1': ['a', 'a', 'b', 'b', 'a'],\n",
    "    'key2': ['one', 'two', 'one', 'two', 'one'],\n",
    "    'data1': np.random.randn(5),\n",
    "    'data2': np.random.randn(5)\n",
    "})\n",
    "\n",
    "print(df)\n",
    "\n",
    "# calculate the mean of data1 column for key1\n",
    "grouped = df['data1'].groupby(df['key1'])\n",
    "print('\\nSeries.groupby() returns a', type(grouped))\n",
    "print('\\nmeans of data1 grouped by key1:')\n",
    "print(grouped.mean())"
   ]
  },
  {
   "cell_type": "code",
   "execution_count": null,
   "metadata": {},
   "outputs": [],
   "source": [
    "print('Means of data1 grouped on key1 and key2:')\n",
    "means = df['data1'].groupby([df['key1'], df['key2']]).mean()\n",
    "print(means)\n",
    "\n",
    "print('\\nUnstacking the means:')\n",
    "means.unstack()"
   ]
  },
  {
   "cell_type": "code",
   "execution_count": null,
   "metadata": {},
   "outputs": [],
   "source": [
    "# Group keys could also list/array of the right size\n",
    "#states = np.array(['Ohio', 'California', 'California', 'Ohio', 'Ohio'])\n",
    "states = ['Ohio', 'California', 'California', 'Ohio', 'Ohio']\n",
    "years = np.array([2005, 2005, 2006, 2005, 2006])\n",
    "\n",
    "df['data1'].groupby([states, years]).mean()"
   ]
  },
  {
   "cell_type": "code",
   "execution_count": null,
   "metadata": {},
   "outputs": [],
   "source": [
    "# implicit col ref\n",
    "print('Grouping df on key1 - key2 is discarded from resulting columns being not numeric:')\n",
    "print(df.groupby('key1').mean())\n",
    "print('\\nGrouping df on key1 and key2:')\n",
    "print(df.groupby(['key1', 'key2']).mean())"
   ]
  },
  {
   "cell_type": "code",
   "execution_count": null,
   "metadata": {},
   "outputs": [],
   "source": [
    "# Size of resulting groups:\n",
    "print(df.groupby(['key1', 'key2']).size())\n",
    "print(df.groupby(['key1']).size())"
   ]
  },
  {
   "cell_type": "markdown",
   "metadata": {},
   "source": [
    "Iterating Over Groups"
   ]
  },
  {
   "cell_type": "code",
   "execution_count": null,
   "metadata": {},
   "outputs": [],
   "source": [
    "print('Iterating on df grouped by key1:')\n",
    "for name, group in df.groupby('key1'):\n",
    "    print('Name:', name)\n",
    "    print('Group:\\n', group)\n",
    "    \n",
    "# multiple keys\n",
    "print('\\nIterating on df grouped by key1 and key2:')\n",
    "for keys, group in df.groupby(['key1', 'key2']):\n",
    "    print('Tuple of keys:', keys)\n",
    "    print('Group:\\n', group)"
   ]
  },
  {
   "cell_type": "code",
   "execution_count": null,
   "metadata": {},
   "outputs": [],
   "source": [
    "# group by key1, convert the result to a dict, passing through list, in a single line\n",
    "pieces = dict(list(df.groupby('key1')))\n",
    "print(pieces['a'])\n",
    "print(pieces['b'])"
   ]
  },
  {
   "cell_type": "markdown",
   "metadata": {},
   "source": [
    "Selecting a Column or Subset of Columns"
   ]
  },
  {
   "cell_type": "code",
   "execution_count": null,
   "metadata": {},
   "outputs": [],
   "source": [
    "# same\n",
    "print(df.groupby('key1')['data1'], df['data1'].groupby(df['key1']))\n",
    "\n",
    "# same\n",
    "print(df.groupby('key1')[['data2']], df[['data2']].groupby(df['key1']))"
   ]
  },
  {
   "cell_type": "code",
   "execution_count": null,
   "metadata": {},
   "outputs": [],
   "source": [
    "df.groupby(['key1', 'key2'])[['data2']].mean()"
   ]
  },
  {
   "cell_type": "markdown",
   "metadata": {},
   "source": [
    "Grouping with Dicts and Series"
   ]
  },
  {
   "cell_type": "code",
   "execution_count": null,
   "metadata": {},
   "outputs": [],
   "source": [
    "people = pd.DataFrame(\n",
    "    data=np.random.randn(5, 5),\n",
    "    columns=['a', 'b', 'c', 'd', 'e'],\n",
    "    index=['Joe', 'Steve', 'Wes', 'Jim', 'Travis'])\n",
    "people.iloc[2, [1, 2]] = np.nan\n",
    "\n",
    "print(people)\n",
    "\n",
    "mapping = {'a': 'red', 'b': 'red', 'c': 'blue', 'd': 'blue', 'e': 'red', 'f' : 'orange'}\n",
    "\n",
    "# group by column\n",
    "print(people.groupby(mapping, axis=1).sum())\n",
    "\n",
    "# ditto, mapping with a Series\n",
    "print(people.groupby(pd.Series(mapping), axis=1).count())"
   ]
  },
  {
   "cell_type": "markdown",
   "metadata": {},
   "source": [
    "Grouping with Functions"
   ]
  },
  {
   "cell_type": "code",
   "execution_count": null,
   "metadata": {},
   "outputs": [],
   "source": [
    "people.groupby(len).sum()"
   ]
  },
  {
   "cell_type": "markdown",
   "metadata": {},
   "source": [
    "Grouping by Index Levels"
   ]
  },
  {
   "cell_type": "code",
   "execution_count": null,
   "metadata": {},
   "outputs": [],
   "source": [
    "columns = pd.MultiIndex.from_arrays(\n",
    "    [['US', 'US', 'US', 'JP', 'JP'],[1, 3, 5, 1, 3]],\n",
    "    names=['cty', 'tenor'])\n",
    "hier_df = pd.DataFrame(\n",
    "    np.random.randn(4, 5),\n",
    "    columns=columns)\n",
    "print(hier_df)\n",
    "print(hier_df.groupby(level='cty', axis=1).count())"
   ]
  }
 ],
 "metadata": {
  "kernelspec": {
   "display_name": "Python 3",
   "language": "python",
   "name": "python3"
  },
  "language_info": {
   "codemirror_mode": {
    "name": "ipython",
    "version": 3
   },
   "file_extension": ".py",
   "mimetype": "text/x-python",
   "name": "python",
   "nbconvert_exporter": "python",
   "pygments_lexer": "ipython3",
   "version": "3.6.4"
  }
 },
 "nbformat": 4,
 "nbformat_minor": 2
}
