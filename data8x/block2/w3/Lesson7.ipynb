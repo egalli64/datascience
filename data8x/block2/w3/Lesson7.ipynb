{
 "cells": [
  {
   "cell_type": "markdown",
   "metadata": {},
   "source": [
    "BerkeleyX: Data8.2x\n",
    "\n",
    "Foundations of Data Science: Inferential Thinking by Resampling"
   ]
  },
  {
   "cell_type": "code",
   "execution_count": null,
   "metadata": {},
   "outputs": [],
   "source": [
    "from datascience import *\n",
    "import numpy as np\n",
    "import matplotlib.pyplot as plt\n",
    "%matplotlib inline"
   ]
  },
  {
   "cell_type": "markdown",
   "metadata": {},
   "source": [
    "Lec 7.2 Performing a Test"
   ]
  },
  {
   "cell_type": "code",
   "execution_count": null,
   "metadata": {},
   "outputs": [],
   "source": [
    "scores = Table.read_table('..\\..\\data\\scores_by_section.csv')\n",
    "scores"
   ]
  },
  {
   "cell_type": "code",
   "execution_count": null,
   "metadata": {},
   "outputs": [],
   "source": [
    "scores.group('Section')"
   ]
  },
  {
   "cell_type": "code",
   "execution_count": null,
   "metadata": {},
   "outputs": [],
   "source": [
    "scores.group('Section', np.average).show()"
   ]
  },
  {
   "cell_type": "code",
   "execution_count": null,
   "metadata": {},
   "outputs": [],
   "source": [
    "# Null: The Section 3 average is like the average of 27 random scores from the class.\n",
    "# Alternative: No, it's too low.\n",
    "\n",
    "# observed statistic and size\n",
    "observerd_average = scores.group('Section', np.average).row(2)[1]\n",
    "observed_size = scores.group('Section').row(2)[1]\n",
    "observerd_average, observed_size"
   ]
  },
  {
   "cell_type": "code",
   "execution_count": null,
   "metadata": {},
   "outputs": [],
   "source": [
    "# average for observed_size (aka 27) students picked at random\n",
    "np.average(scores.sample(observed_size, with_replacement=False).column('Midterm'))"
   ]
  },
  {
   "cell_type": "code",
   "execution_count": null,
   "metadata": {},
   "outputs": [],
   "source": [
    "repetitions = 10000\n",
    "averages = np.empty(repetitions)\n",
    "\n",
    "for i in range(repetitions):\n",
    "    new_average = np.average(scores.sample(observed_size, with_replacement=False).column('Midterm'))\n",
    "    averages[i] = new_average"
   ]
  },
  {
   "cell_type": "code",
   "execution_count": null,
   "metadata": {},
   "outputs": [],
   "source": [
    "# expected distribution\n",
    "Table().with_column('Random Sample Average', averages).hist(\n",
    "    bins = 50, ec='w', normed=None, density=True)\n",
    "\n",
    "# where the observed statistic was\n",
    "plt.scatter(observerd_average, 0, color='red', s=30);\n",
    "\n",
    "# is that good? (meh)"
   ]
  },
  {
   "cell_type": "markdown",
   "metadata": {},
   "source": [
    "Lec 7.3 Statistical Significance\n",
    "\n",
    "Tail of a distribution:\n",
    "- area less than 5% -> **statistical significant**\n",
    "- area less than 1% -> **highly statistical significant**\n",
    "\n",
    "P-value (observed significance level):\n",
    "- chance under null hypothesis \n",
    "- the test statistic is\n",
    " - equal to the value observed in the data\n",
    " - or even further in the direction of the alternative"
   ]
  },
  {
   "cell_type": "code",
   "execution_count": null,
   "metadata": {},
   "outputs": [],
   "source": [
    "# calculate the area of left tail in scores distribution\n",
    "np.count_nonzero(averages <= observerd_average) / repetitions\n",
    "\n",
    "# slightly over 5%, so we accept the null hypothesis"
   ]
  },
  {
   "cell_type": "markdown",
   "metadata": {},
   "source": [
    "Lec 7.4 An Error Probability\n",
    "\n",
    "Always remember that conclusion could be wrong"
   ]
  },
  {
   "cell_type": "code",
   "execution_count": null,
   "metadata": {},
   "outputs": [],
   "source": [
    "# say that the observed average was just a bit lower\n",
    "np.count_nonzero(averages <= 13.6) / repetitions"
   ]
  },
  {
   "cell_type": "code",
   "execution_count": null,
   "metadata": {},
   "outputs": [],
   "source": [
    "Table().with_column('Random Sample Average', averages).hist(\n",
    "    bins = 25, ec='w', normed=None, density=True)\n",
    "plt.scatter(observerd_average, 0, color='red', s=30)\n",
    "plt.plot([13.6, 13.6], [0, 0.35], color='gold', lw=2);"
   ]
  },
  {
   "cell_type": "code",
   "execution_count": null,
   "metadata": {},
   "outputs": [],
   "source": []
  }
 ],
 "metadata": {
  "kernelspec": {
   "display_name": "Python 3",
   "language": "python",
   "name": "python3"
  },
  "language_info": {
   "codemirror_mode": {
    "name": "ipython",
    "version": 3
   },
   "file_extension": ".py",
   "mimetype": "text/x-python",
   "name": "python",
   "nbconvert_exporter": "python",
   "pygments_lexer": "ipython3",
   "version": "3.6.4"
  }
 },
 "nbformat": 4,
 "nbformat_minor": 2
}
