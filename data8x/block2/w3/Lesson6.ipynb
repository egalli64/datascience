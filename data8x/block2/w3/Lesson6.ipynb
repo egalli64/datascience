{
 "cells": [
  {
   "cell_type": "markdown",
   "metadata": {},
   "source": [
    "BerkeleyX: Data8.2x\n",
    "\n",
    "Foundations of Data Science: Inferential Thinking by Resampling"
   ]
  },
  {
   "cell_type": "code",
   "execution_count": null,
   "metadata": {},
   "outputs": [],
   "source": [
    "from datascience import *\n",
    "import numpy as np\n",
    "import matplotlib.pyplot as plt\n",
    "%matplotlib inline"
   ]
  },
  {
   "cell_type": "markdown",
   "metadata": {},
   "source": [
    "Lec 6.1 Introduction"
   ]
  },
  {
   "cell_type": "code",
   "execution_count": null,
   "metadata": {},
   "outputs": [],
   "source": [
    "# Jury Selection in Alameda County\n",
    "jury = Table().with_columns(\n",
    "    'Ethnicity', ['Asian', 'Black', 'Latino', 'White', 'Other'],\n",
    "    'Eligible', [0.15, 0.18, 0.12, 0.54, 0.01],\n",
    "    'Panels', [0.26, 0.08, 0.08, 0.54, 0.04]\n",
    ")\n",
    "jury"
   ]
  },
  {
   "cell_type": "code",
   "execution_count": null,
   "metadata": {},
   "outputs": [],
   "source": [
    "# there are differences between eligibility and actual panels\n",
    "# are panels really selected at random?\n",
    "jury.barh('Ethnicity')"
   ]
  },
  {
   "cell_type": "markdown",
   "metadata": {},
   "source": [
    "Lec 6.2 Total Variation Distance"
   ]
  },
  {
   "cell_type": "code",
   "execution_count": null,
   "metadata": {},
   "outputs": [],
   "source": [
    "# how to evaluate the distance between two distributions?\n",
    "# have a look at differences\n",
    "jury_with_diffs = jury.with_column('Difference', jury.column('Panels') - jury.column('Eligible'))\n",
    "jury_with_diffs"
   ]
  },
  {
   "cell_type": "code",
   "execution_count": null,
   "metadata": {},
   "outputs": [],
   "source": [
    "jury_with_diffs = jury_with_diffs.with_column(\n",
    "    'Absolute Difference', np.abs(jury_with_diffs.column('Difference')))\n",
    "jury_with_diffs\n",
    "\n",
    "# distance between distribution = Total Variation Distance\n",
    "print(sum(jury_with_diffs.column('Absolute Difference')) / 2)"
   ]
  },
  {
   "cell_type": "code",
   "execution_count": null,
   "metadata": {},
   "outputs": [],
   "source": [
    "def total_variation_distance(distribution_1, distribution_2):\n",
    "    return sum(np.abs(distribution_1 - distribution_2)) / 2"
   ]
  },
  {
   "cell_type": "code",
   "execution_count": null,
   "metadata": {},
   "outputs": [],
   "source": [
    "total_variation_distance(jury.column('Eligible'), jury.column('Panels'))"
   ]
  },
  {
   "cell_type": "markdown",
   "metadata": {},
   "source": [
    "Lec 6.3 Assessment"
   ]
  },
  {
   "cell_type": "code",
   "execution_count": null,
   "metadata": {},
   "outputs": [],
   "source": [
    "# distribution of eligible population\n",
    "eligible = jury.column('Eligible')"
   ]
  },
  {
   "cell_type": "code",
   "execution_count": null,
   "metadata": {},
   "outputs": [],
   "source": [
    "# use sample_proportions to get random samples from our distribution\n",
    "#  datascience.sample_proportions(sample_size, probabilities)\n",
    "#  (just a wrapper to np.random.multinomial(sample_size, probabilities) / sample_size)\n",
    "panels_and_sample = jury.with_column('Random Sample', sample_proportions(1453, eligible))\n",
    "panels_and_sample"
   ]
  },
  {
   "cell_type": "code",
   "execution_count": null,
   "metadata": {},
   "outputs": [],
   "source": [
    "panels_and_sample.barh('Ethnicity')"
   ]
  },
  {
   "cell_type": "code",
   "execution_count": null,
   "metadata": {},
   "outputs": [],
   "source": [
    "# tvd from a random sample compared to the actual one\n",
    "print(total_variation_distance(panels_and_sample.column('Random Sample'), eligible))\n",
    "print(total_variation_distance(jury.column('Panels'), eligible))"
   ]
  },
  {
   "cell_type": "code",
   "execution_count": null,
   "metadata": {},
   "outputs": [],
   "source": [
    "# let's check ten thousand random samples\n",
    "tvds = []\n",
    "\n",
    "repetitions = 10000\n",
    "for i in range(repetitions):\n",
    "    sample_distribution = sample_proportions(1453, eligible)\n",
    "    tvds.append(total_variation_distance(sample_distribution, eligible))\n",
    "\n",
    "Table().with_column('Total Variation Distance', tvds).hist(\n",
    "    bins = np.arange(0, 0.09, 0.002), ec='w', normed=None, density=True)\n",
    "\n",
    "# the actual tvd is way out of the expected range"
   ]
  },
  {
   "cell_type": "markdown",
   "metadata": {},
   "source": [
    "Lec 6.4 Summary"
   ]
  },
  {
   "cell_type": "code",
   "execution_count": null,
   "metadata": {},
   "outputs": [],
   "source": []
  }
 ],
 "metadata": {
  "kernelspec": {
   "display_name": "Python 3",
   "language": "python",
   "name": "python3"
  },
  "language_info": {
   "codemirror_mode": {
    "name": "ipython",
    "version": 3
   },
   "file_extension": ".py",
   "mimetype": "text/x-python",
   "name": "python",
   "nbconvert_exporter": "python",
   "pygments_lexer": "ipython3",
   "version": "3.6.4"
  }
 },
 "nbformat": 4,
 "nbformat_minor": 2
}
