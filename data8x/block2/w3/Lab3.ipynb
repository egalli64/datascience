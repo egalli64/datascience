{
 "cells": [
  {
   "cell_type": "markdown",
   "metadata": {},
   "source": [
    "BerkeleyX: Data8.2x\n",
    "\n",
    "Foundations of Data Science: Inferential Thinking by Resampling"
   ]
  },
  {
   "cell_type": "code",
   "execution_count": null,
   "metadata": {},
   "outputs": [],
   "source": [
    "from datascience import *\n",
    "import numpy as np\n",
    "import matplotlib.pyplot as plt\n",
    "%matplotlib inline"
   ]
  },
  {
   "cell_type": "markdown",
   "metadata": {},
   "source": [
    "Lab 3: Inference and Capital Punishment, Part 1\n",
    "\n",
    "Does instituting a death penalty as a punishment for murder actually reduce the number of murders?\n",
    "\n",
    "$$\\text{murder rate for state X in year Y} = \\frac{\\text{number of murders in state X in year Y}}{\\text{population in state X in year Y}}*100000$$"
   ]
  },
  {
   "cell_type": "code",
   "execution_count": null,
   "metadata": {},
   "outputs": [],
   "source": [
    "murder_rates = Table.read_table('../../data/crime_rates.csv').select(\n",
    "    'State', 'Year', 'Population', 'Murder Rate')\n",
    "murder_rates.set_format(\"Population\", NumberFormatter)"
   ]
  },
  {
   "cell_type": "markdown",
   "metadata": {},
   "source": [
    "1: Murder rates"
   ]
  },
  {
   "cell_type": "code",
   "execution_count": null,
   "metadata": {},
   "outputs": [],
   "source": [
    "# Question 1.2. \n",
    "# Draw a line plot with years on the horizontal axis and murder rates on the vertical axis.\n",
    "# Include two lines: one for Alaska murder rates and one for Minnesota murder rates.\n",
    "# Create this plot using a single call, ak_mn.plot('Year').\n",
    "\n",
    "ak = murder_rates.where('State', 'Alaska').drop('State', 'Population').relabeled(\n",
    "    1, 'Murder rate in Alaska')\n",
    "mn = murder_rates.where('State', 'Minnesota').drop('State', 'Population').relabeled(\n",
    "    1, 'Murder rate in Minnesota')\n",
    "ak_mn = ak.join('Year', mn)\n",
    "\n",
    "ak_mn.plot('Year')"
   ]
  },
  {
   "cell_type": "code",
   "execution_count": null,
   "metadata": {},
   "outputs": [],
   "source": [
    "# interactive version of the above\n",
    "from ipywidgets import interact, interactive, fixed, interact_manual\n",
    "import ipywidgets as widgets\n",
    "\n",
    "def state(state1, state2):\n",
    "    s1 = murder_rates.where('State', state1).drop('State', 'Population').relabeled(\n",
    "        1, 'Murder rate in {}'.format(state1))\n",
    "    s2 = murder_rates.where('State', state2).drop('State', 'Population').relabeled(\n",
    "        1, 'Murder rate in {}'.format(state2))\n",
    "    s1_s2 = s1.join('Year', s2)\n",
    "    s1_s2.plot('Year')\n",
    "    plt.show()\n",
    "\n",
    "states_array = murder_rates.group('State').column('State')\n",
    "\n",
    "_ = interact(state,\n",
    "             state1=widgets.Dropdown(options=list(states_array),value='California'),\n",
    "             state2=widgets.Dropdown(options=list(states_array),value='New York')\n",
    "            )"
   ]
  },
  {
   "cell_type": "code",
   "execution_count": null,
   "metadata": {},
   "outputs": [],
   "source": [
    "# Question 1.3\n",
    "# most_murderous()\n",
    "#  draws a horizontal bar chart of the 5 states that had the highest murder rates in that year\n",
    "#  returns an array of the names of these states in order of increasing murder rate\n",
    "def most_murderous(year):\n",
    "    data_for_year = murder_rates.where('Year', year).drop(1, 2)\n",
    "    sorted_data = data_for_year.sort(1, descending=True)\n",
    "    top_5 = sorted_data.take[:5].sort(1)\n",
    "    top_5.barh('State', 'Murder Rate')\n",
    "    return top_5.column('State')\n",
    "\n",
    "print(most_murderous(1990))"
   ]
  },
  {
   "cell_type": "code",
   "execution_count": null,
   "metadata": {},
   "outputs": [],
   "source": [
    "# Question 1.4\n",
    "# How many more people were murdered in California in 1988 than in 1975?\n",
    "ca = murder_rates.where('State', are.equal_to('California'))\n",
    "\n",
    "def murdered(table, year):\n",
    "    data = table.where('Year', year)\n",
    "    pop = data[2][0]\n",
    "    rate = data[3][0]\n",
    "    return rate * pop / 100_000\n",
    "\n",
    "ca_change = murdered(ca, 1988) - murdered(ca, 1975)\n",
    "print(np.round(ca_change))"
   ]
  },
  {
   "cell_type": "markdown",
   "metadata": {},
   "source": [
    "2: Changes in Murder Rates\n",
    "\n",
    "Null hypothesis:\n",
    "- For a set of U.S. states, the murder rate was equally likely to go up or down each year"
   ]
  },
  {
   "cell_type": "code",
   "execution_count": null,
   "metadata": {},
   "outputs": [],
   "source": [
    "# we need a variation on np.diff(), to compare against n neighbor\n",
    "def diff_n(values, n):\n",
    "    return np.array(values)[n:] - np.array(values)[:-n]\n",
    "\n",
    "diff_n(make_array(1, 10, 100, 1000, 10000), 2)"
   ]
  },
  {
   "cell_type": "code",
   "execution_count": null,
   "metadata": {},
   "outputs": [],
   "source": [
    "# Question 2.1. \n",
    "# two_year_changes() from murder rates for a state, ordered by increasing year.\n",
    "#  For all two-year periods (e.g., from 1960 to 1962),\n",
    "#  it computes and returns the number of increases minus the number of decreases.\n",
    "\n",
    "def two_year_changes(rates):\n",
    "    \"Return the number of increases minus the number of decreases after two years.\"\n",
    "    deltas = diff_n(rates, 2)\n",
    "    return np.count_nonzero(deltas > 0) - np.count_nonzero(deltas < 0)\n",
    "\n",
    "print('Example', two_year_changes(make_array(10, 7, 12, 9, 13, 9, 11)), '(2 is expected)')\n",
    "print('Alaska:',    two_year_changes(ak.column('Murder rate in Alaska')))\n",
    "print('Minnesota:', two_year_changes(mn.column('Murder rate in Minnesota')))"
   ]
  },
  {
   "cell_type": "code",
   "execution_count": null,
   "metadata": {},
   "outputs": [],
   "source": [
    "# Question 2.2. \n",
    "# Assign changes_by_state to a table with one row per state that has two columns:\n",
    "#  the State name\n",
    "#  the Murder Rate two_year_changes statistic computed across all years in our data set for that state\n",
    "states = murder_rates.group('State').column('State')\n",
    "changes = []\n",
    "for state in states:\n",
    "    tab = murder_rates.where('State', state)\n",
    "    changes.append(two_year_changes(tab.column('Murder Rate')))\n",
    "\n",
    "changes_by_state = Table().with_columns(['State', states, 'Murder Rate two_year_changes', changes])\n",
    "changes_by_state"
   ]
  },
  {
   "cell_type": "code",
   "execution_count": null,
   "metadata": {},
   "outputs": [],
   "source": [
    "changes_by_state.hist(\"Murder Rate two_year_changes\", bins=np.arange(-11, 19, 2), normed=None)"
   ]
  },
  {
   "cell_type": "code",
   "execution_count": null,
   "metadata": {},
   "outputs": [],
   "source": [
    "# Question 2.3. \n",
    "# Assign total_changes to the total increases minus the total decreases\n",
    "#  for all two-year periods and all states in our data set.\n",
    "# For example, if the murder rate in Ohio went up 23 times and fell 17 times,\n",
    "#  the total change for Ohio would be 6.\n",
    "# We want the total value for all the states together.\n",
    "\n",
    "total_changes = sum(changes_by_state.column(1))\n",
    "print('Total increases minus total decreases, across all states and years:', total_changes)"
   ]
  },
  {
   "cell_type": "code",
   "execution_count": null,
   "metadata": {},
   "outputs": [],
   "source": [
    "# Question 2.4. \n",
    "# What is the total number of distinct pairs of a state and a two-year period?\n",
    "\n",
    "# For example, Alaska during 1968 to 1970 would count as one distinct pair.\n",
    "# Considering all states and all possible two-year periods, how many such pairs are there in total?\n",
    "len(states) * (max(murder_rates.column('Year')) - min(murder_rates.column('Year')) - 1)"
   ]
  },
  {
   "cell_type": "markdown",
   "metadata": {},
   "source": [
    "Null Hypothesis:\n",
    "- State murder rates increase and decrease over two-year periods as if \"increase\" or \"decrease\" were sampled at random from a uniform distribution, like a fair coin flip.\n",
    "\n",
    "Alternative Hypothesis:\n",
    "- State murder rates are more likely to increase over two-year periods.\n",
    "\n",
    "Test Statistic:\n",
    "- The number of increases minus the number of decreases"
   ]
  },
  {
   "cell_type": "code",
   "execution_count": null,
   "metadata": {},
   "outputs": [],
   "source": [
    "uniform = Table().with_columns(\n",
    "    \"Change\", make_array('Increase', 'Decrease'),\n",
    "    \"Chance\", make_array(0.5,        0.5))\n",
    "uniform.sample_from_distribution('Chance', 100)"
   ]
  },
  {
   "cell_type": "code",
   "execution_count": null,
   "metadata": {},
   "outputs": [],
   "source": [
    "# Question 2.5\n",
    "# samples num_changes increases/decreases at random many times\n",
    "# and forms an empirical distribution of your test statistic under the null hypothesis.\n",
    "# simulate_under_null() simulates a single sample under the null hypothesis\n",
    "\n",
    "def simulate_under_null(num_chances_to_change):\n",
    "    \"\"\"Simulates some number changing several times, with an equal\n",
    "    chance to increase or decrease.  Returns the value of our\n",
    "    test statistic for these simulated changes.\n",
    "    \n",
    "    num_chances_to_change is the number of times the number changes.\n",
    "    \"\"\"\n",
    "    sample = uniform.sample_from_distribution('Chance', num_chances_to_change)\n",
    "    return np.diff(sample.column(2))\n",
    "\n",
    "repetitions = 5_000\n",
    "uniform_samples = np.empty(repetitions)\n",
    "for i in range(repetitions):\n",
    "    uniform_samples[i] = simulate_under_null(100)\n",
    "\n",
    "simulated_changes = Table().with_column('Test statistic under null', uniform_samples)\n",
    "simulated_changes"
   ]
  },
  {
   "cell_type": "code",
   "execution_count": null,
   "metadata": {},
   "outputs": [],
   "source": [
    "# simulated_changes.hist(0, bins=np.arange(-100, 400+25, 25), normed=None)\n",
    "simulated_changes.hist(0, bins=range(-50, 50), normed=None)"
   ]
  }
 ],
 "metadata": {
  "kernelspec": {
   "display_name": "Python 3",
   "language": "python",
   "name": "python3"
  },
  "language_info": {
   "codemirror_mode": {
    "name": "ipython",
    "version": 3
   },
   "file_extension": ".py",
   "mimetype": "text/x-python",
   "name": "python",
   "nbconvert_exporter": "python",
   "pygments_lexer": "ipython3",
   "version": "3.6.4"
  }
 },
 "nbformat": 4,
 "nbformat_minor": 2
}
