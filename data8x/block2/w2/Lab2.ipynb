{
 "cells": [
  {
   "cell_type": "markdown",
   "metadata": {},
   "source": [
    "BerkeleyX: Data8.2x\n",
    "\n",
    "Foundations of Data Science: Inferential Thinking by Resampling\n",
    "\n",
    "Lab 2"
   ]
  },
  {
   "cell_type": "code",
   "execution_count": null,
   "metadata": {},
   "outputs": [],
   "source": [
    "from datascience import *\n",
    "import numpy as np\n",
    "import matplotlib.pyplot as plt\n",
    "%matplotlib inline"
   ]
  },
  {
   "cell_type": "markdown",
   "metadata": {},
   "source": [
    "Dungeons and Dragons and Sampling\n",
    "\n"
   ]
  },
  {
   "cell_type": "code",
   "execution_count": null,
   "metadata": {},
   "outputs": [],
   "source": [
    "# Question 1.1 - roll a 20-faced dice w/ modifier 11 against a 15\n",
    "\n",
    "possible_rolls = np.arange(1, 21)\n",
    "roll_result = np.random.choice(possible_rolls)\n",
    "modifier = 11\n",
    "modified_result = roll_result + modifier\n",
    "fail_until = 15\n",
    "action_succeeded = modified_result > fail_until\n",
    "\n",
    "print(\"On a modified roll of {:d}, Alice's action {}.\".\n",
    "      format(modified_result, \"succeeded\" if action_succeeded else \"failed\"))"
   ]
  },
  {
   "cell_type": "code",
   "execution_count": null,
   "metadata": {},
   "outputs": [],
   "source": [
    "# Question 1.2 - run it 7 times and give an estimation of success chances\n",
    "counter = 7\n",
    "successes = []\n",
    "for _ in range(counter):\n",
    "    successes.append(np.random.choice(possible_rolls) + modifier > fail_until)\n",
    "\n",
    "rough_success_chance = sum(successes)/counter\n",
    "print(successes, rough_success_chance)"
   ]
  },
  {
   "cell_type": "code",
   "execution_count": null,
   "metadata": {},
   "outputs": [],
   "source": [
    "# Question 1.3\n",
    "\n",
    "modifier = 11\n",
    "num_observations = 7\n",
    "\n",
    "def simulate_observations():\n",
    "    \"\"\"Produces an array of 7 simulated modified die rolls\"\"\"\n",
    "    result = []\n",
    "    for _ in range(num_observations):\n",
    "        result.append(np.random.choice(possible_rolls) + modifier)\n",
    "    return result\n",
    "\n",
    "observations = simulate_observations()\n",
    "observations"
   ]
  },
  {
   "cell_type": "code",
   "execution_count": null,
   "metadata": {},
   "outputs": [],
   "source": [
    "# Question 1.4 \n",
    "# Draw a histogram to display the probability distribution of the modified rolls we might see.\n",
    "roll_bins = np.arange(1, modifier+2+20, 1)\n",
    "values = np.arange(1+modifier, 20+modifier+1)\n",
    "\n",
    "rolls = Table().with_column('values', values)\n",
    "rolls.hist('values', bins=roll_bins, normed=None, density=True)"
   ]
  },
  {
   "cell_type": "code",
   "execution_count": null,
   "metadata": {},
   "outputs": [],
   "source": [
    "# Question 1.5 \n",
    "# estimate modifier from observations finding the smallest total roll\n",
    "min_estimate = min(observations) - 1\n",
    "min_estimate"
   ]
  },
  {
   "cell_type": "code",
   "execution_count": null,
   "metadata": {},
   "outputs": [],
   "source": [
    "# Question 1.6 \n",
    "# Figure out a good estimate based on the mean of observations\n",
    "\n",
    "def mean_based_estimator(nums):\n",
    "    \"\"\"Estimate the roll modifier based on observed modified rolls in the array nums.\"\"\"\n",
    "    return int(round(np.mean(nums)) - 10)\n",
    "\n",
    "mean_based_estimate = mean_based_estimator(observations)\n",
    "mean_based_estimate"
   ]
  },
  {
   "cell_type": "markdown",
   "metadata": {},
   "source": [
    "Sampling"
   ]
  },
  {
   "cell_type": "code",
   "execution_count": null,
   "metadata": {},
   "outputs": [],
   "source": [
    "player_data = Table().read_table(\"../../data/player_data.csv\")\n",
    "salary_data = Table().read_table(\"../../data/salary_data.csv\")\n",
    "full_data = salary_data.join(\"PlayerName\", player_data, \"Name\")\n",
    "# The show method immediately displays the contents of a table. \n",
    "# This way, we can display the top of two tables using a single cell.\n",
    "player_data.show(3)\n",
    "salary_data.show(3)\n",
    "full_data.show(3)"
   ]
  },
  {
   "cell_type": "code",
   "execution_count": null,
   "metadata": {},
   "outputs": [],
   "source": [
    "# Question 2.1. \n",
    "# Complete the histograms function,\n",
    "# which takes a table with columns Age and Salary and draws a histogram for each one.\n",
    "# Use the min and max functions to pick the bin boundaries\n",
    "# so that all data appears for any table passed to your function.\n",
    "# Use the same bin widths as before (1 year for Age and $1,000,000 for Salary).\n",
    "\n",
    "def histograms(t):\n",
    "    ages = t.column('Age')\n",
    "    salaries = t.column('Salary')\n",
    "    age_bins = range(min(ages), max(ages))\n",
    "    salary_bins = range(min(salaries), max(salaries), 1_000_000)\n",
    "    t.hist('Age', bins=age_bins, unit='year', normed=None, density=True)\n",
    "    t.hist('Salary', bins=salary_bins, unit='$', normed=None, density=True)\n",
    "    \n",
    "histograms(full_data)"
   ]
  },
  {
   "cell_type": "code",
   "execution_count": null,
   "metadata": {},
   "outputs": [],
   "source": [
    "# Question 2.2. \n",
    "# Create a function called compute_statistics that takes a Table containing ages and salaries and:\n",
    "# Draws a histogram of ages\n",
    "# Draws a histogram of salaries\n",
    "# Returns a two-element array containing the average age and average salary\n",
    "def compute_statistics(age_and_salary_data):\n",
    "    histograms(age_and_salary_data)\n",
    "\n",
    "    age = age_and_salary_data.column('Age')\n",
    "    salary = age_and_salary_data.column('Salary')\n",
    "    return np.array([np.mean(age), np.mean(salary)])\n",
    "\n",
    "full_stats = compute_statistics(full_data)\n",
    "full_stats"
   ]
  },
  {
   "cell_type": "markdown",
   "metadata": {},
   "source": [
    "Convenience sampling"
   ]
  },
  {
   "cell_type": "code",
   "execution_count": null,
   "metadata": {
    "scrolled": true
   },
   "outputs": [],
   "source": [
    "# Question 2.3 \n",
    "# Assign convenience_sample_data to a subset of full_data\n",
    "#  that contains only the rows for players under the age of 22\n",
    "convenience_sample = full_data.where(full_data['Age'] < 22)\n",
    "convenience_sample"
   ]
  },
  {
   "cell_type": "code",
   "execution_count": null,
   "metadata": {},
   "outputs": [],
   "source": [
    "# Question 2.4 \n",
    "# Assign convenience_stats to a list of the average age and average salary\n",
    "#  of your convenience sample, using the compute_statistics function.\n",
    "# Since they're computed on a sample, these are called sample averages.\n",
    "convenience_stats = compute_statistics(convenience_sample)\n",
    "convenience_stats"
   ]
  },
  {
   "cell_type": "code",
   "execution_count": null,
   "metadata": {},
   "outputs": [],
   "source": [
    "def compare_salaries(first, second, first_title, second_title):\n",
    "    \"\"\"Compare the salaries in two tables.\"\"\"\n",
    "    max_salary = max(np.append(first.column('Salary'), second.column('Salary')))\n",
    "    bins = np.arange(0, max_salary+1e6+1, 1e6)\n",
    "    first_binned = first.bin('Salary', bins=bins).relabeled(1, first_title)\n",
    "    second_binned = second.bin('Salary', bins=bins).relabeled(1, second_title)\n",
    "    first_binned.join('bin', second_binned).hist(bin_column='bin', normed=None, density=True)\n",
    "\n",
    "compare_salaries(full_data, convenience_sample, 'All Players', 'Convenience Sample')"
   ]
  },
  {
   "cell_type": "markdown",
   "metadata": {},
   "source": [
    "Simple random sampling\n",
    "\n",
    "_simple random sample without replacement_ or SRSWOR "
   ]
  },
  {
   "cell_type": "code",
   "execution_count": null,
   "metadata": {},
   "outputs": [],
   "source": [
    "def load_data(salary_file):\n",
    "    return player_data.join('Name', Table.read_table(salary_file), 'PlayerName')"
   ]
  },
  {
   "cell_type": "code",
   "execution_count": null,
   "metadata": {},
   "outputs": [],
   "source": [
    "# Question 2.5 \n",
    "# Run the same analyses on the small and large samples that you previously ran on the full dataset\n",
    "# and on the convenience sample.\n",
    "# Compare the accuracy of the estimates of the population statistics\n",
    "#  that we get from the convenience sample, the small simple random sample,\n",
    "#  and the large simple random sample.\n",
    "\n",
    "small_srswor_data = load_data('../../data/small_srswor_salary.csv')\n",
    "small_stats = compute_statistics(small_srswor_data)\n",
    "large_srswor_data = load_data('../../data/large_srswor_salary.csv')\n",
    "large_stats = compute_statistics(large_srswor_data)\n",
    "print('Full data stats:                 ', full_stats)\n",
    "print('Small simple random sample stats:', small_stats)\n",
    "print('Large simple random sample stats:', large_stats)"
   ]
  },
  {
   "cell_type": "markdown",
   "metadata": {},
   "source": [
    "Producing simple random samples"
   ]
  },
  {
   "cell_type": "code",
   "execution_count": null,
   "metadata": {},
   "outputs": [],
   "source": [
    "# Question 2.6 \n",
    "# Produce a simple random sample of size 44 from full_data.\n",
    "# Run your analysis on it again and think about these following questions.\n",
    "# Are your results roughly similar to those in the small sample we provided you?\n",
    "#  Run your code several times to get new samples.\n",
    "# How much does the average age change across samples?\n",
    "# What about average salary?\n",
    "my_small_srswor_data = full_data.sample(44, with_replacement=False)\n",
    "my_small_stats = compute_statistics(my_small_srswor_data)\n",
    "my_small_stats"
   ]
  },
  {
   "cell_type": "code",
   "execution_count": null,
   "metadata": {},
   "outputs": [],
   "source": [
    "my_large_srswor_data = full_data.sample(100, with_replacement=False)\n",
    "my_large_stats = compute_statistics(my_large_srswor_data)\n",
    "my_large_stats"
   ]
  }
 ],
 "metadata": {
  "kernelspec": {
   "display_name": "Python 3",
   "language": "python",
   "name": "python3"
  },
  "language_info": {
   "codemirror_mode": {
    "name": "ipython",
    "version": 3
   },
   "file_extension": ".py",
   "mimetype": "text/x-python",
   "name": "python",
   "nbconvert_exporter": "python",
   "pygments_lexer": "ipython3",
   "version": "3.6.4"
  }
 },
 "nbformat": 4,
 "nbformat_minor": 2
}
