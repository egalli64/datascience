{
 "cells": [
  {
   "cell_type": "markdown",
   "metadata": {},
   "source": [
    "BerkeleyX: Data8.2x\n",
    "\n",
    "Foundations of Data Science: Inferential Thinking by Resampling"
   ]
  },
  {
   "cell_type": "code",
   "execution_count": null,
   "metadata": {},
   "outputs": [],
   "source": [
    "from datascience import *\n",
    "import numpy as np\n",
    "import matplotlib.pyplot as plt\n",
    "%matplotlib inline"
   ]
  },
  {
   "cell_type": "markdown",
   "metadata": {},
   "source": [
    "Lec 5.2 A Model about Random Selection"
   ]
  },
  {
   "cell_type": "code",
   "execution_count": null,
   "metadata": {},
   "outputs": [],
   "source": [
    "# proportion of categories in the population - here, black vs white people\n",
    "eligible_population = [0.26, 0.74]\n",
    "\n",
    "# give these ratios, is a sample containing 8 blacks \"normal\"?\n",
    "\n",
    "# Random sample from a categorical distribution using\n",
    "#  datascience.sample_proportions(sample_size, probabilities)\n",
    "#  (just a wrapper to np.random.multinomial(sample_size, probabilities) / sample_size)\n",
    "\n",
    "sample_proportions(100, eligible_population)"
   ]
  },
  {
   "cell_type": "code",
   "execution_count": null,
   "metadata": {},
   "outputs": [],
   "source": [
    "# from percentage to units\n",
    "both_counts = 100 * (sample_proportions(100, eligible_population))\n",
    "both_counts, int(both_counts[0])"
   ]
  },
  {
   "cell_type": "code",
   "execution_count": null,
   "metadata": {},
   "outputs": [],
   "source": [
    "repetitions = 10000\n",
    "\n",
    "counts = np.empty(repetitions)\n",
    "\n",
    "for i in range(repetitions):\n",
    "    sample_distribution = sample_proportions(100, eligible_population)\n",
    "    counts[i] = int(round(100 * sample_distribution[0]))\n",
    "\n",
    "Table().with_column('Random Sample Count', counts).hist(\n",
    "    bins = range(5, 50), normed=None, density=True)"
   ]
  },
  {
   "cell_type": "markdown",
   "metadata": {},
   "source": [
    "Lec 5.3 A Genetic Model\n",
    "\n",
    "Gregor Mendel"
   ]
  },
  {
   "cell_type": "code",
   "execution_count": null,
   "metadata": {},
   "outputs": [],
   "source": [
    "# Model for a given pea plant: 75% flowers are purple, 25% white\n",
    "# Is this model good? We'll check the statistic expected percentage against actual value\n",
    "model = np.array([.75, .25])\n",
    "prediction_purple = 75\n",
    "\n",
    "sample_size = 929 # actual sample size by Mendel\n",
    "proportion = np.random.multinomial(sample_size, model) / sample_size\n",
    "percent_purple = 100 * proportion[0]\n",
    "statistic = abs(percent_purple - prediction_purple)\n",
    "statistic"
   ]
  },
  {
   "cell_type": "code",
   "execution_count": null,
   "metadata": {},
   "outputs": [],
   "source": [
    "repetitions = 10000\n",
    "distances = np.empty(repetitions)\n",
    "\n",
    "for i in range(repetitions):\n",
    "    distance = abs((100 * sample_proportions(sample_size, model)[0]) - 75)\n",
    "    distances[i] = distance\n",
    "    \n",
    "Table().with_column('Distance from 75', distances).hist(normed=None, density=True)"
   ]
  },
  {
   "cell_type": "code",
   "execution_count": null,
   "metadata": {},
   "outputs": [],
   "source": [
    "# The result Mendel got was less than 1%, looks like a good fit\n",
    "mendel_purple = 705\n",
    "abs(100 * (mendel_purple / sample_size) - prediction_purple)"
   ]
  },
  {
   "cell_type": "markdown",
   "metadata": {},
   "source": [
    "Lec 5.4 Example\n",
    "\n",
    "Data: 400 tosses of a coin\n",
    "\n",
    "Hypotheses A: Coin is not fair\n",
    "\n",
    "Hypotheses B: Coin is biased toward tails"
   ]
  },
  {
   "cell_type": "code",
   "execution_count": null,
   "metadata": {},
   "outputs": [],
   "source": [
    "# A - fair: close to .5, unfair, far from it\n",
    "model = np.array([.5, .5])\n",
    "prediction_tail = .5\n",
    "sample_size = 400\n",
    "\n",
    "repetitions = 10_000\n",
    "distances = np.empty(repetitions)\n",
    "\n",
    "for i in range(repetitions):\n",
    "    distances[i] = abs(sample_proportions(sample_size, model)[0] - .5)\n",
    "    \n",
    "Table().with_column('Distance from .5', distances).hist(normed=None, density=True)\n",
    "\n",
    "# for instance, if actual value < .10, reject bias"
   ]
  },
  {
   "cell_type": "code",
   "execution_count": null,
   "metadata": {},
   "outputs": [],
   "source": [
    "# B - fair: close to .5, unfair towards T, far from it on the right\n",
    "for i in range(repetitions):\n",
    "    distance = sample_proportions(sample_size, model)[0] - .5\n",
    "    distances[i] = distance\n",
    "    \n",
    "Table().with_column('Distance from .5', distances).hist(normed=None, density=True)\n",
    "\n",
    "# for instance, if actual value < .05, reject bias towards T"
   ]
  },
  {
   "cell_type": "markdown",
   "metadata": {},
   "source": [
    "The Kristen Gilbert case"
   ]
  },
  {
   "cell_type": "code",
   "execution_count": null,
   "metadata": {},
   "outputs": [],
   "source": [
    "total_shifts = 1641\n",
    "gilbert_shifts = 257\n",
    "total_deaths = 74\n",
    "gilbert_death_on_shift = 40\n",
    "\n",
    "# If you picked a shift at random,\n",
    "# what’s the chance there’s at least one death on that shift?\n",
    "deadly_shift = total_deaths / total_shifts  # 74 / 1641\n",
    "print(deadly_shift)\n",
    "\n",
    "# Suppose Gilbert's shifts were like random draws from all 1641 shifts.\n",
    "# How many draws would there be?\n",
    "print(gilbert_shifts)  # 257\n",
    "\n",
    "# If Gilbert's shifts were like random draws,\n",
    "# in how many shifts do you expect her to have seen at least one death?\n",
    "exp_deadly_shift = deadly_shift * gilbert_shifts # 257 * 74 / 1641\n",
    "print(exp_deadly_shift)\n",
    "\n",
    "# In how many of Gilbert's shifts did she see at least one death?\n",
    "print(gilbert_death_on_shift) # 40"
   ]
  }
 ],
 "metadata": {
  "kernelspec": {
   "display_name": "Python 3",
   "language": "python",
   "name": "python3"
  },
  "language_info": {
   "codemirror_mode": {
    "name": "ipython",
    "version": 3
   },
   "file_extension": ".py",
   "mimetype": "text/x-python",
   "name": "python",
   "nbconvert_exporter": "python",
   "pygments_lexer": "ipython3",
   "version": "3.6.4"
  }
 },
 "nbformat": 4,
 "nbformat_minor": 2
}
