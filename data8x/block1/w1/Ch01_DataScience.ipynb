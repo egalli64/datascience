{
 "cells": [
  {
   "cell_type": "code",
   "execution_count": null,
   "metadata": {},
   "outputs": [],
   "source": [
    "import pandas as pd\n",
    "import numpy as np"
   ]
  },
  {
   "cell_type": "code",
   "execution_count": null,
   "metadata": {},
   "outputs": [],
   "source": [
    "# read book from file to a list of chapters\n",
    "fh = open('../../data/little_women.txt')\n",
    "\n",
    "lw = fh.read()\n",
    "chapters = lw.split('CHAPTER ')[1:]\n",
    "\n",
    "# check the first word of the second chapter, should be 'TWO'\n",
    "chapters[1].split()[0]"
   ]
  },
  {
   "cell_type": "code",
   "execution_count": null,
   "metadata": {},
   "outputs": [],
   "source": [
    "# push the list of strings to pandas dataframe, chapter one on row 0, column is named 'Chapters'.\n",
    "df_lw = pd.DataFrame(chapters, columns=['Chapters'])\n",
    "\n",
    "# check, first row is the first chapter\n",
    "df_lw.iloc[0]"
   ]
  },
  {
   "cell_type": "code",
   "execution_count": null,
   "metadata": {},
   "outputs": [],
   "source": [
    "# DataFrame, columns named with the main characters\n",
    "#            rows: mentions for each characters in current chapter\n",
    "df_count = pd.DataFrame({\n",
    "    'Amy': np.char.count(chapters, 'Amy'),\n",
    "    'Beth': np.char.count(chapters, 'Beth'),\n",
    "    'Jo': np.char.count(chapters, 'Jo'),\n",
    "    'Meg': np.char.count(chapters, 'Meg'),\n",
    "    'Laurie': np.char.count(chapters, 'Laurie')\n",
    "})\n",
    "\n",
    "# check, 44 mentions of Jo in chapter 1\n",
    "df_count.iloc[0]['Jo']"
   ]
  },
  {
   "cell_type": "code",
   "execution_count": null,
   "metadata": {},
   "outputs": [],
   "source": [
    "# plot cumulative counts\n",
    "\n",
    "cumulatives = df_count.cumsum()\n",
    "#cumulatives['Chapter'] = np.arange(1, 48, 1)\n",
    "cumulatives.plot()"
   ]
  }
 ],
 "metadata": {
  "kernelspec": {
   "display_name": "Python 3",
   "language": "python",
   "name": "python3"
  },
  "language_info": {
   "codemirror_mode": {
    "name": "ipython",
    "version": 3
   },
   "file_extension": ".py",
   "mimetype": "text/x-python",
   "name": "python",
   "nbconvert_exporter": "python",
   "pygments_lexer": "ipython3",
   "version": "3.6.4"
  }
 },
 "nbformat": 4,
 "nbformat_minor": 2
}
