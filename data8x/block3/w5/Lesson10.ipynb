{
 "cells": [
  {
   "cell_type": "markdown",
   "metadata": {},
   "source": [
    "BerkeleyX: Data8.3x\n",
    "\n",
    "Foundations of Data Science: Prediction and Machine Learning\n",
    "\n",
    "Section 10: Privacy"
   ]
  },
  {
   "cell_type": "code",
   "execution_count": null,
   "metadata": {},
   "outputs": [],
   "source": [
    "from datascience import *\n",
    "import numpy as np\n",
    "import matplotlib.pyplot as plt\n",
    "%matplotlib inline"
   ]
  },
  {
   "cell_type": "markdown",
   "metadata": {},
   "source": [
    "Lec 10.3 Case Study - License plates"
   ]
  },
  {
   "cell_type": "code",
   "execution_count": null,
   "metadata": {},
   "outputs": [],
   "source": [
    "# some data collected by the Oakland Police Department\n",
    "# from https://inferentialthinking.com/data/all-lprs.csv.gz\n",
    "# was a good idea to make them public in this form?\n",
    "lprs = Table.read_table('../../data/all-lprs.csv.gz', compression='gzip', sep=',')"
   ]
  },
  {
   "cell_type": "code",
   "execution_count": null,
   "metadata": {},
   "outputs": [],
   "source": [
    "lprs.show(3)\n",
    "lprs.relabel('red_VRM', 'Plate')\n",
    "lprs.relabel('red_Timestamp', 'Timestamp')\n",
    "lprs.show(3)"
   ]
  },
  {
   "cell_type": "code",
   "execution_count": null,
   "metadata": {},
   "outputs": [],
   "source": [
    "# Ex-major car :O\n",
    "lprs.where('Plate', '6FCH845')"
   ]
  },
  {
   "cell_type": "code",
   "execution_count": null,
   "metadata": {},
   "outputs": [],
   "source": [
    "def get_latitude(s):\n",
    "    before, after = s.split(',')         # Break it into two parts\n",
    "    lat_string = before.replace('(', '') # Get rid of the annoying '('\n",
    "    return float(lat_string)             # Convert the string to a number\n",
    "\n",
    "\n",
    "def get_longitude(s):\n",
    "    before, after = s.split(',')                 # Break it into two parts\n",
    "    long_string = after.replace(')', '').strip() # Get rid of the ')' and spaces\n",
    "    return float(long_string)                    # Convert the string to a number"
   ]
  },
  {
   "cell_type": "code",
   "execution_count": null,
   "metadata": {},
   "outputs": [],
   "source": [
    "get_latitude('(37.797558, -122.26935)'), get_longitude('(37.797558, -122.26935)')"
   ]
  },
  {
   "cell_type": "code",
   "execution_count": null,
   "metadata": {},
   "outputs": [],
   "source": [
    "lprs = lprs.with_columns(\n",
    "    'Latitude',  lprs.apply(get_latitude, 'Location'),\n",
    "    'Longitude', lprs.apply(get_longitude, 'Location')\n",
    ")"
   ]
  },
  {
   "cell_type": "code",
   "execution_count": null,
   "metadata": {},
   "outputs": [],
   "source": [
    "lprs.show(3)"
   ]
  },
  {
   "cell_type": "code",
   "execution_count": null,
   "metadata": {},
   "outputs": [],
   "source": [
    "# map for ex-major data - knowing about Oakland, we could see there is a bias!\n",
    "jean_quan = lprs.where('Plate', '6FCH845').select('Latitude', 'Longitude', 'Timestamp')\n",
    "Marker.map_table(jean_quan)"
   ]
  },
  {
   "cell_type": "code",
   "execution_count": null,
   "metadata": {},
   "outputs": [],
   "source": [
    "# enrich dataset adding color for spot time\n",
    "import datetime\n",
    "\n",
    "def get_color(ts):\n",
    "    t = datetime.datetime.strptime(ts, '%m/%d/%Y %I:%M:%S %p')\n",
    "    if t.weekday() >= 6:\n",
    "        return 'green' # Weekend\n",
    "    elif t.hour >= 6 and t.hour <= 17:\n",
    "        return 'blue' # Weekday daytime\n",
    "    else:\n",
    "        return 'red' # Weekday evening\n",
    "    \n",
    "lprs.append_column('Color', lprs.apply(get_color, 'Timestamp'))"
   ]
  },
  {
   "cell_type": "code",
   "execution_count": null,
   "metadata": {},
   "outputs": [],
   "source": [
    "# chief fire dept\n",
    "t = lprs.where('Plate', '1328354').select('Latitude', 'Longitude', 'Timestamp', 'Color')\n",
    "Marker.map_table(t)"
   ]
  },
  {
   "cell_type": "code",
   "execution_count": null,
   "metadata": {},
   "outputs": [],
   "source": [
    "def map_plate(plate):\n",
    "    sightings = lprs.where('Plate', plate)\n",
    "    t = sightings.select('Latitude', 'Longitude', 'Timestamp', 'Color')\n",
    "    return Marker.map_table(t)\n",
    "\n",
    "# random guy - probably we could guess where he lives\n",
    "map_plate('5AJG153')"
   ]
  },
  {
   "cell_type": "code",
   "execution_count": null,
   "metadata": {},
   "outputs": [],
   "source": [
    "# other random guy - home to college\n",
    "map_plate('6UZA652')"
   ]
  }
 ],
 "metadata": {
  "kernelspec": {
   "display_name": "Python 3",
   "language": "python",
   "name": "python3"
  },
  "language_info": {
   "codemirror_mode": {
    "name": "ipython",
    "version": 3
   },
   "file_extension": ".py",
   "mimetype": "text/x-python",
   "name": "python",
   "nbconvert_exporter": "python",
   "pygments_lexer": "ipython3",
   "version": "3.6.4"
  }
 },
 "nbformat": 4,
 "nbformat_minor": 2
}
