{
 "cells": [
  {
   "cell_type": "markdown",
   "metadata": {},
   "source": [
    "BerkeleyX: Data8.3x\n",
    "\n",
    "Foundations of Data Science: Prediction and Machine Learning"
   ]
  },
  {
   "cell_type": "code",
   "execution_count": null,
   "metadata": {},
   "outputs": [],
   "source": [
    "from datascience import *\n",
    "import numpy as np\n",
    "import matplotlib.pyplot as plt\n",
    "%matplotlib inline"
   ]
  },
  {
   "cell_type": "markdown",
   "metadata": {},
   "source": [
    "Lec 4.1 Prediction"
   ]
  },
  {
   "cell_type": "markdown",
   "metadata": {},
   "source": [
    "Prediction"
   ]
  },
  {
   "cell_type": "code",
   "execution_count": null,
   "metadata": {},
   "outputs": [],
   "source": [
    "galton = Table.read_table('../../data/galton.csv')\n",
    "\n",
    "heights = Table().with_column(\n",
    "    'MidParent', galton.column('midparentHeight'),\n",
    "    'Child', galton.column('childHeight'))\n",
    "heights"
   ]
  },
  {
   "cell_type": "code",
   "execution_count": null,
   "metadata": {},
   "outputs": [],
   "source": [
    "heights.scatter('MidParent')"
   ]
  },
  {
   "cell_type": "code",
   "execution_count": null,
   "metadata": {},
   "outputs": [],
   "source": [
    "def predict_child(x):\n",
    "    chosen = heights.where('MidParent', are.between(x - 0.5, x + 0.5))\n",
    "    return np.average(chosen.column('Child'))"
   ]
  },
  {
   "cell_type": "code",
   "execution_count": null,
   "metadata": {},
   "outputs": [],
   "source": [
    "predictions = heights.apply(predict_child, 'MidParent')"
   ]
  },
  {
   "cell_type": "code",
   "execution_count": null,
   "metadata": {},
   "outputs": [],
   "source": [
    "heights = heights.with_column(\n",
    "    'Original Prediction', predictions\n",
    ")\n",
    "\n",
    "heights"
   ]
  },
  {
   "cell_type": "code",
   "execution_count": null,
   "metadata": {},
   "outputs": [],
   "source": [
    "heights.scatter('MidParent')"
   ]
  },
  {
   "cell_type": "markdown",
   "metadata": {},
   "source": [
    "Lec 4.2 Linear Regression"
   ]
  },
  {
   "cell_type": "code",
   "execution_count": null,
   "metadata": {},
   "outputs": [],
   "source": [
    "def regression_line(r):\n",
    "    x = np.random.normal(0, 1, 10000)\n",
    "    z = np.random.normal(0, 1, 10000)\n",
    "    y = r*x + (np.sqrt(1-r**2))*z\n",
    "    plt.figure(figsize=(7, 7))\n",
    "    plt.xlim(-4, 4)\n",
    "    plt.ylim(-4, 4)\n",
    "    plt.scatter(x, y, s=10)\n",
    "    plt.plot([-4, 4], [-4*r,4*r], color='g', lw=2)\n",
    "    if r >= 0:\n",
    "        plt.plot([-4,4],[-4,4], lw=2, color='r')\n",
    "    else:\n",
    "        plt.plot([-4,4], [4,-4], lw=2, color='r')"
   ]
  },
  {
   "cell_type": "code",
   "execution_count": null,
   "metadata": {},
   "outputs": [],
   "source": [
    "regression_line(.6)\n",
    "regression_line(.9)\n",
    "regression_line(.2)\n",
    "regression_line(0)"
   ]
  },
  {
   "cell_type": "markdown",
   "metadata": {},
   "source": [
    "Regression estimate:\n",
    "\n",
    "- convert x to SU\n",
    "- multiply the result by r\n",
    "- convert the result back from SU"
   ]
  },
  {
   "cell_type": "code",
   "execution_count": null,
   "metadata": {},
   "outputs": [],
   "source": [
    "# example: Adult Mountain Lions\n",
    "# length mean is 84 inches, SD 8 inches\n",
    "# weight mean is 125 pounds, SD 15 pounds\n",
    "# correlation .6\n",
    "# if weight is 155 the estimated length is?\n",
    "x = (155 - 125) / 15 # (w - w_m) / sd_w\n",
    "y = .6 * x           # r * x\n",
    "len = y * 8 + 84     # y * sd_l + l_m\n",
    "x, y, len"
   ]
  },
  {
   "cell_type": "markdown",
   "metadata": {},
   "source": [
    "Lec 4.3 Regression to the Mean"
   ]
  },
  {
   "cell_type": "markdown",
   "metadata": {},
   "source": [
    "Lec 4.4 Regression Equation\n",
    "\n",
    "In SU:\n",
    "- it passes from (0, 0)\n",
    "- y = r * x\n",
    "\n",
    "In actual units:\n",
    "- it passes from (avg_x, avg_y)\n",
    "- its slope r_x is SD_y / SD_x\n",
    "\n",
    "Formula:\n",
    "\n",
    "- (estimate of y - avg of y) / (SD of y) = r * (given x - avg of x) / (SD of x)\n",
    "- estimate of y = slope * x + intercept\n",
    "\n",
    "where:\n",
    "- slope = r * (SD of y) / (SD of x)\n",
    "- intercept = (avg of y) - slope * (avg of y)"
   ]
  },
  {
   "cell_type": "code",
   "execution_count": null,
   "metadata": {},
   "outputs": [],
   "source": [
    "def standard_units(x):\n",
    "    \"\"\"x is a list\"\"\"\n",
    "    return (x - np.average(x))/np.std(x)\n",
    "\n",
    "def correlation(t, x, y):\n",
    "    \"\"\"table t, columns labeled x and y\"\"\"\n",
    "    x_su = standard_units(t.column(x))\n",
    "    y_su = standard_units(t.column(y))\n",
    "    return np.average(x_su * y_su)\n",
    "\n",
    "def slope(t, x, y):\n",
    "    \"\"\"table t, columns labeled x (given) and y (predicted)\"\"\"\n",
    "    r = correlation(t, x, y)\n",
    "    return r * np.std(t.column(y))/np.std(t.column(x))\n",
    "\n",
    "def intercept(t, x, y):\n",
    "    \"\"\"table t, columns labeled x and y\"\"\"\n",
    "    a = slope(t, x, y)\n",
    "    return np.average(t.column(y)) - a*np.average(t.column(x))"
   ]
  },
  {
   "cell_type": "code",
   "execution_count": null,
   "metadata": {},
   "outputs": [],
   "source": [
    "galton_slope = slope(heights, 'MidParent', 'Child')\n",
    "galton_intercept = intercept(heights, 'MidParent', 'Child')\n",
    "galton_slope, galton_intercept"
   ]
  },
  {
   "cell_type": "code",
   "execution_count": null,
   "metadata": {},
   "outputs": [],
   "source": [
    "sample = heights.take(123)\n",
    "print(sample)\n",
    "print('linear prediction:', galton_slope * sample.column(0)[0] + galton_intercept)"
   ]
  },
  {
   "cell_type": "code",
   "execution_count": null,
   "metadata": {},
   "outputs": [],
   "source": [
    "def fitted_values(t, x, y):\n",
    "    a = slope(t, x, y)\n",
    "    b = intercept(t, x, y)\n",
    "    return a * t.column(x) + b"
   ]
  },
  {
   "cell_type": "code",
   "execution_count": null,
   "metadata": {},
   "outputs": [],
   "source": [
    "regression_predictions = fitted_values(heights, 'MidParent', 'Child')"
   ]
  },
  {
   "cell_type": "code",
   "execution_count": null,
   "metadata": {},
   "outputs": [],
   "source": [
    "heights = heights.with_column(\n",
    "    'Regression Prediction', regression_predictions\n",
    ")\n",
    "heights"
   ]
  },
  {
   "cell_type": "code",
   "execution_count": null,
   "metadata": {},
   "outputs": [],
   "source": [
    "heights.scatter('MidParent')"
   ]
  },
  {
   "cell_type": "markdown",
   "metadata": {},
   "source": [
    "Lec 4.5 Interpreting the Slope"
   ]
  },
  {
   "cell_type": "markdown",
   "metadata": {},
   "source": [
    "Reading and Practice for Section 4\n",
    "\n",
    "Drink water price vs rain precipitation\n",
    "- price avg: .919016\n",
    "- price SD: .464763\n",
    "- rain avg: 1010.4\n",
    "- rain SD: 752.475\n",
    "- r: .262079"
   ]
  },
  {
   "cell_type": "code",
   "execution_count": null,
   "metadata": {},
   "outputs": [],
   "source": [
    "# correlation(water, ‘mm_precipitation’, ‘OBS_VALUE’)\n",
    "r = .262079\n",
    "\n",
    "# np.average(t.column(y)) - a*np.average(t.column(x))\n",
    "intercept = 1010.4\n",
    "\n",
    "\n",
    "# x is precipitation\n",
    "x = 700\n",
    "slope = r * (.464763) / (752.475)\n",
    "print(slope)\n",
    "intercept = ( .919016) - slope * (1010.4)\n",
    "print(intercept)\n",
    "\n",
    "# y is estimated price\n",
    "y = slope * x + intercept\n",
    "print(y)"
   ]
  }
 ],
 "metadata": {
  "kernelspec": {
   "display_name": "Python 3",
   "language": "python",
   "name": "python3"
  },
  "language_info": {
   "codemirror_mode": {
    "name": "ipython",
    "version": 3
   },
   "file_extension": ".py",
   "mimetype": "text/x-python",
   "name": "python",
   "nbconvert_exporter": "python",
   "pygments_lexer": "ipython3",
   "version": "3.6.4"
  }
 },
 "nbformat": 4,
 "nbformat_minor": 2
}
