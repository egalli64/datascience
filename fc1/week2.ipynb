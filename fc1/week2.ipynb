{
 "cells": [
  {
   "cell_type": "markdown",
   "metadata": {},
   "source": [
    "# Fat Chance: Probability from the Ground Up\n",
    "## HarvardX -  FC1x\n",
    "## https://courses.edx.org/courses/course-v1:HarvardX+FC1x+1T2018/course/\n",
    "\n",
    "Week Two"
   ]
  },
  {
   "cell_type": "code",
   "execution_count": 1,
   "metadata": {},
   "outputs": [],
   "source": [
    "from math import factorial"
   ]
  },
  {
   "cell_type": "code",
   "execution_count": 2,
   "metadata": {},
   "outputs": [
    {
     "name": "stdout",
     "output_type": "stream",
     "text": [
      "True\n",
      "360360 39544072888320000\n"
     ]
    }
   ],
   "source": [
    "# from a population of 15, take 5 people\n",
    "n = 15\n",
    "k = 5\n",
    "\n",
    "# sequence (each one has a specific role):\n",
    "sequences = factorial(n) // factorial(n-k)\n",
    "print(sequences == 15 * 14 * 13 * 12 * 11)\n",
    "\n",
    "# commitee (don't care about diposition)\n",
    "collections = (factorial(n) // factorial(k)) * factorial(n-k)\n",
    "print(sequences, collections)"
   ]
  },
  {
   "cell_type": "markdown",
   "metadata": {},
   "source": [
    "### Binomial coefficient - n choose k\n",
    "(n k) = n! / ((n-k)! * k!)\n",
    "\n",
    "(n k) = (n (n-k))\n",
    "\n",
    "(n k) = ((n-1) k) + ((n-1) (k-1))"
   ]
  },
  {
   "cell_type": "code",
   "execution_count": 3,
   "metadata": {},
   "outputs": [],
   "source": [
    "from scipy.special import binom"
   ]
  },
  {
   "cell_type": "code",
   "execution_count": 4,
   "metadata": {},
   "outputs": [
    {
     "data": {
      "text/plain": [
       "2926"
      ]
     },
     "execution_count": 4,
     "metadata": {},
     "output_type": "execute_result"
    }
   ],
   "source": [
    "# An exam has 15 questions:\n",
    "# eight true/false questions and seven multiple choice questions.\n",
    "# You are asked to answer five of them, but your professor requires you\n",
    "# to answer at least one true/false question and at least one multiple choice question.\n",
    "# How many ways can you choose the questions you plan to answer?\n",
    "\n",
    "na = 8\n",
    "nb = 7\n",
    "n = na + nb\n",
    "k = 5\n",
    "\n",
    "free_choice = binom(n, k)\n",
    "only_bool = binom(na, k)\n",
    "only_multi = binom(nb, k)\n",
    "mixed = free_choice - only_bool - only_multi\n",
    "int(mixed)"
   ]
  },
  {
   "cell_type": "markdown",
   "metadata": {},
   "source": [
    "## Applications of Collections"
   ]
  },
  {
   "cell_type": "markdown",
   "metadata": {},
   "source": [
    "Case 1: pizzas and toppings"
   ]
  },
  {
   "cell_type": "code",
   "execution_count": 5,
   "metadata": {},
   "outputs": [
    {
     "name": "stdout",
     "output_type": "stream",
     "text": [
      "315 True\n"
     ]
    }
   ],
   "source": [
    "# A pizza should have:\n",
    "#  2 meat toppings out of 7 possible ones and\n",
    "#  2 veggie toppings out of 6 available ones.\n",
    "\n",
    "# (7 2) (6 2)\n",
    "pizzas_2_and_2 = binom(7, 2) * binom(6, 2)\n",
    "print(int(pizzas_2_and_2), pizzas_2_and_2 == (7*6/2) * (6*5/2))"
   ]
  },
  {
   "cell_type": "code",
   "execution_count": 6,
   "metadata": {},
   "outputs": [
    {
     "data": {
      "text/plain": [
       "[1, 13, 78, 286, 715]"
      ]
     },
     "execution_count": 6,
     "metadata": {},
     "output_type": "execute_result"
    }
   ],
   "source": [
    "# how many pizzas with n [0..4] toppings from 13\n",
    "[1, 13, int(binom(13, 2)), int(binom(13, 3)), int(binom(13, 4))]"
   ]
  },
  {
   "cell_type": "code",
   "execution_count": 7,
   "metadata": {},
   "outputs": [
    {
     "data": {
      "text/plain": [
       "([35.0, 210.0, 315.0, 140.0, 15.0], 715.0)"
      ]
     },
     "execution_count": 7,
     "metadata": {},
     "output_type": "execute_result"
    }
   ],
   "source": [
    "# pizzas with a meat and b veggie, with a + b = 4\n",
    "pizzas_4 = [binom(7, 4), binom(7, 3) * binom(6, 1), pizzas_2_and_2,\n",
    "            binom(7, 1) * binom(6, 3), binom(6, 4)]\n",
    "pizzas_4, sum(pizzas_4)"
   ]
  },
  {
   "cell_type": "markdown",
   "metadata": {},
   "source": [
    "Case 2: committee"
   ]
  },
  {
   "cell_type": "code",
   "execution_count": 8,
   "metadata": {},
   "outputs": [
    {
     "name": "stdout",
     "output_type": "stream",
     "text": [
      "15015 True True\n"
     ]
    }
   ],
   "source": [
    "# 5 students from a class of 15\n",
    "committee = binom(15, 5)\n",
    "\n",
    "# choose a chair for the committee\n",
    "# first choose the committee, than the chair\n",
    "alt1 = int(committee * 5)\n",
    "\n",
    "# or, first choose the chair, than the rest of the committee:\n",
    "alt2 = 15 * binom(14, 4)\n",
    "\n",
    "# or, first choose the 4 non-chair elements of the committe, and then the chair\n",
    "alt3 = binom(15, 4) * 11\n",
    "\n",
    "print(alt1, alt1 == alt2, alt1 == alt3)"
   ]
  },
  {
   "cell_type": "markdown",
   "metadata": {},
   "source": [
    "Case 3: words"
   ]
  },
  {
   "cell_type": "code",
   "execution_count": 9,
   "metadata": {},
   "outputs": [
    {
     "name": "stdout",
     "output_type": "stream",
     "text": [
      "128\n",
      "35 True\n"
     ]
    }
   ],
   "source": [
    "# 2-letter words [E, N] sized 7\n",
    "print(2 ** 7)\n",
    "# how many of them have exactly 4E and 3N?\n",
    "# i.e. choose which 4 position in the 7-letter word are taken by E\n",
    "e4_n3 = int(binom(7, 4))\n",
    "print(e4_n3, e4_n3 == binom(7, 3))"
   ]
  },
  {
   "cell_type": "code",
   "execution_count": 10,
   "metadata": {},
   "outputs": [
    {
     "data": {
      "text/plain": [
       "18.0"
      ]
     },
     "execution_count": 10,
     "metadata": {},
     "output_type": "execute_result"
    }
   ],
   "source": [
    "# same of: moving in a grid just East and North, distance is 4E, 3N. How many path? (7 3) == (7 4)\n",
    "# what if I want to stop in (2E, 1N)?\n",
    "# split the path in two: (0, 0) -> (2E, 1N) -> (4E, 3N)\n",
    "binom(3, 2) * binom(4, 2)"
   ]
  },
  {
   "cell_type": "markdown",
   "metadata": {},
   "source": [
    "Practice"
   ]
  },
  {
   "cell_type": "code",
   "execution_count": 11,
   "metadata": {},
   "outputs": [
    {
     "name": "stdout",
     "output_type": "stream",
     "text": [
      "588.0\n",
      "1260.0\n"
     ]
    }
   ],
   "source": [
    "# class of 15 students, 8 girls and 7 boys\n",
    "# committee of 4 students, 2 girls and 2 boys\n",
    "print(binom(8, 2) * binom(7, 2))\n",
    "\n",
    "# committee of 4 from among the 15 students, at least 1 girl and 1 boy\n",
    "committee_generic = binom(15, 4)\n",
    "committee_0_girl = binom(7, 4)\n",
    "committee_4_girl = binom(8, 4)\n",
    "print(committee_generic - committee_0_girl - committee_4_girl)"
   ]
  },
  {
   "cell_type": "code",
   "execution_count": 12,
   "metadata": {},
   "outputs": [
    {
     "name": "stdout",
     "output_type": "stream",
     "text": [
      "792.0 792.0\n",
      "210.0 210.0 210.0\n",
      "582.0\n"
     ]
    }
   ],
   "source": [
    "# in a grid 7x5, we want to move from down-left corner to up-right corner\n",
    "# how many paths?\n",
    "full_path = binom(12, 5)\n",
    "print(full_path, binom(12, 7))\n",
    "\n",
    "# how many of them pass through (3, 2)?\n",
    "# split: (0, 0) -> (3, 2) -> (5, 7)\n",
    "path_stop = binom(5, 3) * binom(7, 2)\n",
    "print(path_stop, binom(5, 2) * binom(7, 5), binom(5, 2) * binom(7, 2))\n",
    "\n",
    "# how many do not pass through (3, 2)?\n",
    "print(full_path - path_stop)"
   ]
  },
  {
   "cell_type": "markdown",
   "metadata": {},
   "source": [
    "### Multinomials\n",
    "\n",
    "(generalization of binomial coefficient)\n",
    "\n",
    "(n (a1, a2, ..., an))\n",
    "\n",
    "n! / (a1! * a2! * ... * an!)"
   ]
  },
  {
   "cell_type": "code",
   "execution_count": 13,
   "metadata": {},
   "outputs": [
    {
     "name": "stdout",
     "output_type": "stream",
     "text": [
      "1260.0 True\n",
      "True\n"
     ]
    }
   ],
   "source": [
    "# Given a group of 9 students,\n",
    "# find how many ways they could go in three rooms sized respectively 4, 3, and 2.\n",
    "solution = binom(9, 4) * binom(5, 3)\n",
    "print(solution, solution == binom(9, 2) * binom(7, 3))\n",
    "\n",
    "# (9 4) * (5 3) = 9! / (4! * 3! * 2!)\n",
    "binom_9_4 = factorial(9) // (factorial(4) * factorial(5))\n",
    "binom_5_3 = factorial(5) // (factorial(3) * factorial(2))\n",
    "print(solution == factorial(9) // (factorial(4) * factorial(3) * factorial(2)))"
   ]
  },
  {
   "cell_type": "markdown",
   "metadata": {},
   "source": [
    "Anagrams"
   ]
  },
  {
   "cell_type": "code",
   "execution_count": 14,
   "metadata": {},
   "outputs": [
    {
     "name": "stdout",
     "output_type": "stream",
     "text": [
      "5040\n"
     ]
    }
   ],
   "source": [
    "# No duplicated letter, like STRANGE\n",
    "size = len('STRANGE')\n",
    "print(factorial(size))"
   ]
  },
  {
   "cell_type": "code",
   "execution_count": 15,
   "metadata": {},
   "outputs": [
    {
     "data": {
      "text/plain": [
       "420"
      ]
     },
     "execution_count": 15,
     "metadata": {},
     "output_type": "execute_result"
    }
   ],
   "source": [
    "# With duplicated letters, like CHEESES\n",
    "# 3E, 2S, 1C, 1H\n",
    "# i.e. divide the pool of seven slots (the resulting word) sized 3,2,1,1\n",
    "# so: multinomial (7 (3,2,1,1))\n",
    "factorial(7) // (factorial(3) * factorial(2))"
   ]
  },
  {
   "cell_type": "code",
   "execution_count": 16,
   "metadata": {},
   "outputs": [
    {
     "data": {
      "text/plain": [
       "34650"
      ]
     },
     "execution_count": 16,
     "metadata": {},
     "output_type": "execute_result"
    }
   ],
   "source": [
    "# Anagrams of MISSISSIPI: 4S, 4I, 2P, 1M\n",
    "factorial(11) // (factorial(4) * factorial(4) * factorial(2))"
   ]
  },
  {
   "cell_type": "markdown",
   "metadata": {},
   "source": [
    "Practice"
   ]
  },
  {
   "cell_type": "code",
   "execution_count": 17,
   "metadata": {},
   "outputs": [
    {
     "data": {
      "text/plain": [
       "756756"
      ]
     },
     "execution_count": 17,
     "metadata": {},
     "output_type": "execute_result"
    }
   ],
   "source": [
    "# 15 guys, and 5, 5, 5 sandwiches, ways of distributing them:\n",
    "factorial(15) // (factorial(5) ** 3)"
   ]
  },
  {
   "cell_type": "code",
   "execution_count": 18,
   "metadata": {},
   "outputs": [],
   "source": [
    "# which words have more anagrams among:\n",
    "# totter 3t 1o 1e 1r\n",
    "# 720 // 6\n",
    "# turret 2t 2r 1e 1u\n",
    "# 4\n",
    "# retort 2t 2r 1e 1o\n",
    "# 4\n",
    "# pepper 3p 2e 1r\n",
    "# 12\n",
    "# tsetse 2t 2s 2e\n",
    "# 8\n",
    "\n",
    "# smaller divisor: turret, retort\n",
    "# bigger divisor: pepper"
   ]
  },
  {
   "cell_type": "markdown",
   "metadata": {},
   "source": [
    "## Collections with repetitions"
   ]
  },
  {
   "cell_type": "code",
   "execution_count": 19,
   "metadata": {},
   "outputs": [],
   "source": [
    "# if the order matters, sequence of k objects from a pool of n with repetition: n ** k\n",
    "# sequences of k objects from n, without repetition: n! / (n - k)!\n",
    "# collections of k obj from n, w/o repetition: n! / (k! * (n - k)!) == (n k)\n",
    "\n",
    "# collections of k obj from n, w/ repetition ((n + k - 1) (n - 1))"
   ]
  },
  {
   "cell_type": "markdown",
   "metadata": {},
   "source": [
    "Practice"
   ]
  },
  {
   "cell_type": "code",
   "execution_count": 20,
   "metadata": {},
   "outputs": [
    {
     "name": "stdout",
     "output_type": "stream",
     "text": [
      "792.0\n"
     ]
    }
   ],
   "source": [
    "# You roll seven identical six-sided dice simultaneously. How many different outcomes are possible?\n",
    "# ((7+6-1) (6-1))\n",
    "print(binom(12, 5))"
   ]
  },
  {
   "cell_type": "code",
   "execution_count": 21,
   "metadata": {},
   "outputs": [
    {
     "data": {
      "text/plain": [
       "3365856.0"
      ]
     },
     "execution_count": 21,
     "metadata": {},
     "output_type": "execute_result"
    }
   ],
   "source": [
    "# How many different racks are possible - seven letters from 26\n",
    "# ((7+26-1) (26-1)) = (32 25) = (32 7)\n",
    "binom(32, 7)"
   ]
  },
  {
   "cell_type": "markdown",
   "metadata": {},
   "source": [
    "## Evaluation"
   ]
  },
  {
   "cell_type": "markdown",
   "metadata": {},
   "source": [
    "15 senators, 8R 7D"
   ]
  },
  {
   "cell_type": "code",
   "execution_count": 22,
   "metadata": {},
   "outputs": [
    {
     "data": {
      "text/plain": [
       "1176.0"
      ]
     },
     "execution_count": 22,
     "metadata": {},
     "output_type": "execute_result"
    }
   ],
   "source": [
    "# Committee 3R 2D: how many way of choosing\n",
    "# (8 3) * (7 2)\n",
    "binom(8, 3) * binom(7, 2)"
   ]
  },
  {
   "cell_type": "code",
   "execution_count": 23,
   "metadata": {},
   "outputs": [
    {
     "data": {
      "text/plain": [
       "7056.0"
      ]
     },
     "execution_count": 23,
     "metadata": {},
     "output_type": "execute_result"
    }
   ],
   "source": [
    "# besides, 1R is also chair and 1D is ranking member\n",
    "3 * binom(8, 3) * 2 * binom(7, 2)"
   ]
  },
  {
   "cell_type": "code",
   "execution_count": 24,
   "metadata": {},
   "outputs": [
    {
     "data": {
      "text/plain": [
       "2926.0"
      ]
     },
     "execution_count": 24,
     "metadata": {},
     "output_type": "execute_result"
    }
   ],
   "source": [
    "# Relaxed rules: the committee NOT consist entirely of Republicans or entirely of Democrats\n",
    "# committee of 5 from 15\n",
    "committee = binom(15, 5)\n",
    "# R-only, D-only committees\n",
    "committee_R5 = binom(8, 5)\n",
    "committee_D5 = binom(7, 5)\n",
    "\n",
    "# solution\n",
    "committee - committee_D5 - committee_R5"
   ]
  },
  {
   "cell_type": "markdown",
   "metadata": {},
   "source": [
    "7 meat toppings and 6 veggie toppings"
   ]
  },
  {
   "cell_type": "code",
   "execution_count": 25,
   "metadata": {},
   "outputs": [
    {
     "data": {
      "text/plain": [
       "525.0"
      ]
     },
     "execution_count": 25,
     "metadata": {},
     "output_type": "execute_result"
    }
   ],
   "source": [
    "# 3 different meat toppings and 2 different veggie toppings\n",
    "binom(7, 3) * binom(6, 2)"
   ]
  },
  {
   "cell_type": "code",
   "execution_count": 26,
   "metadata": {},
   "outputs": [
    {
     "name": "stdout",
     "output_type": "stream",
     "text": [
      "1056\n",
      "1056\n"
     ]
    }
   ],
   "source": [
    "# 5 toppings, no more than 3 meat\n",
    "\n",
    "# 5 toppings whichever\n",
    "topp5 = binom(13, 5)\n",
    "\n",
    "# 5 toppings meat in [0..3]\n",
    "topp5 = [binom(6, 5), 7 * binom(6, 4), binom(7, 2) * binom(6, 3), binom(7, 3) * binom(6, 2)]\n",
    "\n",
    "topp_upto_3 = sum(topp5)\n",
    "print(int(topp_upto_3))\n",
    "\n",
    "print(int(binom(13, 5) - binom(7, 5) - 6 * binom(7, 4)))"
   ]
  },
  {
   "cell_type": "markdown",
   "metadata": {},
   "source": [
    "Dorm, 10 students, 4 rooms [1, 2, 3, 4]"
   ]
  },
  {
   "cell_type": "code",
   "execution_count": 27,
   "metadata": {},
   "outputs": [
    {
     "name": "stdout",
     "output_type": "stream",
     "text": [
      "12600\n",
      "12600\n",
      "12600\n"
     ]
    }
   ],
   "source": [
    "print(factorial(10) // (factorial(4) * factorial(3) * 2))\n",
    "print(int(binom(10, 4) * binom(6, 3) * binom(3, 2)))\n",
    "print(int(binom(10, 1) * binom(9, 2) * binom(7, 3)))"
   ]
  },
  {
   "cell_type": "markdown",
   "metadata": {},
   "source": [
    "Anagrams of BOOKKEEPER"
   ]
  },
  {
   "cell_type": "code",
   "execution_count": 28,
   "metadata": {},
   "outputs": [
    {
     "data": {
      "text/plain": [
       "151200"
      ]
     },
     "execution_count": 28,
     "metadata": {},
     "output_type": "execute_result"
    }
   ],
   "source": [
    "# 1B, 1R, 1P, 2O, 2K, 3E\n",
    "# multinomial(10 (3,2,2,1,1,1))\n",
    "factorial(10) // (factorial(3) * 2 * 2)"
   ]
  },
  {
   "cell_type": "markdown",
   "metadata": {},
   "source": [
    "15 sandwiches to 8 people, no restriction"
   ]
  },
  {
   "cell_type": "code",
   "execution_count": 29,
   "metadata": {},
   "outputs": [
    {
     "name": "stdout",
     "output_type": "stream",
     "text": [
      "170544.0\n"
     ]
    }
   ],
   "source": [
    "print(binom(22, 7))"
   ]
  }
 ],
 "metadata": {
  "kernelspec": {
   "display_name": "Python 3",
   "language": "python",
   "name": "python3"
  },
  "language_info": {
   "codemirror_mode": {
    "name": "ipython",
    "version": 3
   },
   "file_extension": ".py",
   "mimetype": "text/x-python",
   "name": "python",
   "nbconvert_exporter": "python",
   "pygments_lexer": "ipython3",
   "version": "3.6.4"
  }
 },
 "nbformat": 4,
 "nbformat_minor": 2
}
