{
 "cells": [
  {
   "cell_type": "markdown",
   "metadata": {},
   "source": [
    "# Fat Chance: Probability from the Ground Up\n",
    "## HarvardX -  FC1x\n",
    "## https://courses.edx.org/courses/course-v1:HarvardX+FC1x+1T2018/course/\n",
    "\n",
    "Week One"
   ]
  },
  {
   "cell_type": "markdown",
   "metadata": {},
   "source": [
    "### Counting numbers"
   ]
  },
  {
   "cell_type": "code",
   "execution_count": 1,
   "metadata": {},
   "outputs": [
    {
     "name": "stdout",
     "output_type": "stream",
     "text": [
      "Numbers in [42, 482]: 441\n",
      "Divisible by 5 in [42, 482]: [45, 50, 55 ... 470, 475, 480]\n",
      "Divide all of them by five: [9, 10, 11, ..., 94, 95, 96]\n",
      "So it equals to numbers in [9, 96] -> 96 - 9 + 1 = 88\n"
     ]
    }
   ],
   "source": [
    "# In [k, n]: n - k + 1\n",
    "\n",
    "# e.g.\n",
    "print('Numbers in [42, 482]:', 482 - 42 + 1)\n",
    "\n",
    "# extra\n",
    "print('Divisible by 5 in [42, 482]:', '[45, 50, 55 ... 470, 475, 480]')\n",
    "print('Divide all of them by five:', '[9, 10, 11, ..., 94, 95, 96]')\n",
    "print('So it equals to numbers in [9, 96] -> 96 - 9 + 1 =', 96 - 9 + 1)"
   ]
  },
  {
   "cell_type": "code",
   "execution_count": 2,
   "metadata": {},
   "outputs": [
    {
     "data": {
      "text/plain": [
       "32"
      ]
     },
     "execution_count": 2,
     "metadata": {},
     "output_type": "execute_result"
    }
   ],
   "source": [
    "# [33, 97]\n",
    "97 - 33 + 1\n",
    "\n",
    "# even number is [33, 97]\n",
    "# [34, 36, 38, ..., 92, 94, 96]\n",
    "# [17, 18, 19, ..., 46, 47, 48]\n",
    "# [17, 48]\n",
    "48 - 17 + 1"
   ]
  },
  {
   "cell_type": "markdown",
   "metadata": {},
   "source": [
    "### Interlude - large numbers"
   ]
  },
  {
   "cell_type": "code",
   "execution_count": 3,
   "metadata": {},
   "outputs": [
    {
     "name": "stdout",
     "output_type": "stream",
     "text": [
      "3.17 x 10 exp 6 =  3170000\n"
     ]
    }
   ],
   "source": [
    "# 3 million 170 thousand\n",
    "print('3.17 x 10 exp 6 = ', int(3.17e6))"
   ]
  },
  {
   "cell_type": "code",
   "execution_count": 4,
   "metadata": {},
   "outputs": [
    {
     "name": "stdout",
     "output_type": "stream",
     "text": [
      "in years, 1.38e10\n",
      "seconds in a year: 31536000 about 3.15e7\n",
      "about 4.35e17\n",
      "Current fastest computer is about 9e16 operations per seconds\n",
      "Total coumputing: 4e17*9e16 = 4e34\n"
     ]
    }
   ],
   "source": [
    "# Seconds from the beginning of universe - 13.8 billion years\n",
    "print('in years, 1.38e10')\n",
    "print('seconds in a year:', 60 * 60 * 24 * 365, 'about 3.15e7')\n",
    "print('about 4.35e17')\n",
    "\n",
    "# Computing\n",
    "print('Current fastest computer is about 9e16 operations per seconds')\n",
    "print('Total coumputing: 4e17*9e16 = 4e34')"
   ]
  },
  {
   "cell_type": "code",
   "execution_count": 5,
   "metadata": {},
   "outputs": [
    {
     "name": "stdout",
     "output_type": "stream",
     "text": [
      "Total transactions are 10 * 365 * 400 * 5000 = 7300000000  = 7.3e9\n"
     ]
    }
   ],
   "source": [
    "# 5000 employees, 10 transactions a day for 400 years.\n",
    "print('Total transactions are 10 * 365 * 400 * 5000 =', 10 * 365 * 400 * 5000, ' = 7.3e9')"
   ]
  },
  {
   "cell_type": "markdown",
   "metadata": {},
   "source": [
    "## The multiplication principle"
   ]
  },
  {
   "cell_type": "code",
   "execution_count": 6,
   "metadata": {},
   "outputs": [
    {
     "name": "stdout",
     "output_type": "stream",
     "text": [
      "Combinations of 7*3*2 = 42\n"
     ]
    }
   ],
   "source": [
    "# dressing up chosing from 7 shirts, 3 trousers, 2 shoes gives:\n",
    "print('Combinations of 7*3*2 =', 7*3*2)"
   ]
  },
  {
   "cell_type": "code",
   "execution_count": 7,
   "metadata": {},
   "outputs": [
    {
     "name": "stdout",
     "output_type": "stream",
     "text": [
      "Sequence of 5 chosen from 26 = 26**5 = 11881376\n"
     ]
    }
   ],
   "source": [
    "# 5 letter words (making sense or not) in the English alphabet:\n",
    "print('Sequence of 5 chosen from 26 = 26**5 =', 26 ** 5)"
   ]
  },
  {
   "cell_type": "code",
   "execution_count": 8,
   "metadata": {},
   "outputs": [
    {
     "name": "stdout",
     "output_type": "stream",
     "text": [
      "Sequence of 5 chosen from 26 without repetition = 26*25*24*23*22 = 7893600\n"
     ]
    }
   ],
   "source": [
    "print('Sequence of 5 chosen from 26 without repetition = 26*25*24*23*22 =', 26*25*24*23*22)"
   ]
  },
  {
   "cell_type": "code",
   "execution_count": 9,
   "metadata": {},
   "outputs": [
    {
     "name": "stdout",
     "output_type": "stream",
     "text": [
      "Total codes 10 ** 3 * 26 ** 3 = 17576000  < 2e7\n"
     ]
    }
   ],
   "source": [
    "# code with three numbers + 3 letters (EN)\n",
    "print('Total codes 10 ** 3 * 26 ** 3 =', 10 ** 3 * 26 ** 3, ' < 2e7')"
   ]
  },
  {
   "cell_type": "code",
   "execution_count": 10,
   "metadata": {},
   "outputs": [
    {
     "data": {
      "text/plain": [
       "True"
      ]
     },
     "execution_count": 10,
     "metadata": {},
     "output_type": "execute_result"
    }
   ],
   "source": [
    "# code with two letters + 4 numbers, enough for 5 million books?\n",
    "26 ** 2 * 10 ** 4 > 5e6"
   ]
  },
  {
   "cell_type": "code",
   "execution_count": 11,
   "metadata": {},
   "outputs": [
    {
     "data": {
      "text/plain": [
       "3276000"
      ]
     },
     "execution_count": 11,
     "metadata": {},
     "output_type": "execute_result"
    }
   ],
   "source": [
    "# how many codes 2L4N w/o repetitions?\n",
    "26 * 25 * 10 * 9 * 8 * 7"
   ]
  },
  {
   "cell_type": "markdown",
   "metadata": {},
   "source": [
    "# Factorial"
   ]
  },
  {
   "cell_type": "code",
   "execution_count": 12,
   "metadata": {},
   "outputs": [
    {
     "name": "stdout",
     "output_type": "stream",
     "text": [
      "1307674368000\n"
     ]
    }
   ],
   "source": [
    "from math import factorial\n",
    "print(factorial(15))"
   ]
  },
  {
   "cell_type": "markdown",
   "metadata": {},
   "source": [
    "# k chosen from n without repetition: n! / (n-k)!"
   ]
  },
  {
   "cell_type": "code",
   "execution_count": 13,
   "metadata": {},
   "outputs": [
    {
     "data": {
      "text/plain": [
       "320"
      ]
     },
     "execution_count": 13,
     "metadata": {},
     "output_type": "execute_result"
    }
   ],
   "source": [
    "# How many three-digit odd numbers are there with no repeated digits?\n",
    "5 * 8 * 8"
   ]
  },
  {
   "cell_type": "markdown",
   "metadata": {},
   "source": [
    "# The Subtraction Principle"
   ]
  },
  {
   "cell_type": "code",
   "execution_count": 14,
   "metadata": {},
   "outputs": [
    {
     "data": {
      "text/plain": [
       "262495"
      ]
     },
     "execution_count": 14,
     "metadata": {},
     "output_type": "execute_result"
    }
   ],
   "source": [
    "# how many 4 letter \"words\" contain at least a vowel?\n",
    "\n",
    "# 4 letter \"words\" with no vowels:\n",
    "no_vowels_four_letter = 21 ** 4\n",
    "\n",
    "# 4LW with at least a vowel:\n",
    "four_letter_words = 26 ** 4\n",
    "\n",
    "four_letter_words - no_vowels_four_letter"
   ]
  },
  {
   "cell_type": "code",
   "execution_count": 15,
   "metadata": {},
   "outputs": [
    {
     "data": {
      "text/plain": [
       "4716498176"
      ]
     },
     "execution_count": 15,
     "metadata": {},
     "output_type": "execute_result"
    }
   ],
   "source": [
    "# Of all the seven-letter words in the English alphabet,\n",
    "# how many have a letter in them that appears more than once?\n",
    "all_seven_letter = 26 ** 7\n",
    "all_seven_no_repetition = 26 * 25 * 24 * 23 * 22 * 21 * 20\n",
    "with_repetition = all_seven_letter - all_seven_no_repetition\n",
    "with_repetition"
   ]
  },
  {
   "cell_type": "code",
   "execution_count": 16,
   "metadata": {},
   "outputs": [
    {
     "data": {
      "text/plain": [
       "9000000"
      ]
     },
     "execution_count": 16,
     "metadata": {},
     "output_type": "execute_result"
    }
   ],
   "source": [
    "# A phone number has seven digits and cannot begin with a 0\n",
    "# How many possible phone numbers are there?\n",
    "\n",
    "seven_digit_tel_num = 10 ** 6 * 9\n",
    "int(9e6)"
   ]
  },
  {
   "cell_type": "code",
   "execution_count": 17,
   "metadata": {},
   "outputs": [
    {
     "data": {
      "text/plain": [
       "4748472"
      ]
     },
     "execution_count": 17,
     "metadata": {},
     "output_type": "execute_result"
    }
   ],
   "source": [
    "# A phone number has seven digits and cannot begin with a 0.\n",
    "# How many phone numbers contain at least one 7\n",
    "no_seven = 8 * 9 ** 6\n",
    "seven_digit_tel_num - no_seven"
   ]
  },
  {
   "cell_type": "code",
   "execution_count": 18,
   "metadata": {},
   "outputs": [
    {
     "data": {
      "text/plain": [
       "45971"
      ]
     },
     "execution_count": 18,
     "metadata": {},
     "output_type": "execute_result"
    }
   ],
   "source": [
    "# A phone number has seven digits and cannot begin with a 0.\n",
    "# How many phone numbers contain the sequence 123\n",
    "10**4-10 + 4*9*10**3-19"
   ]
  },
  {
   "cell_type": "markdown",
   "metadata": {},
   "source": [
    "## Evaluation"
   ]
  },
  {
   "cell_type": "code",
   "execution_count": 19,
   "metadata": {},
   "outputs": [
    {
     "data": {
      "text/plain": [
       "542"
      ]
     },
     "execution_count": 19,
     "metadata": {},
     "output_type": "execute_result"
    }
   ],
   "source": [
    "# How many whole numbers are there between 242 and 783?\n",
    "in_range = 783 - 242 + 1\n",
    "in_range"
   ]
  },
  {
   "cell_type": "code",
   "execution_count": 20,
   "metadata": {},
   "outputs": [
    {
     "data": {
      "text/plain": [
       "90"
      ]
     },
     "execution_count": 20,
     "metadata": {},
     "output_type": "execute_result"
    }
   ],
   "source": [
    "# How many of them are divisible by 6?\n",
    "# [246, 252, 258 ... 768, 774, 780]\n",
    "# [41 ... 130]\n",
    "in_not_by_six = 130 - 41 + 1\n",
    "in_not_by_six"
   ]
  },
  {
   "cell_type": "code",
   "execution_count": 21,
   "metadata": {},
   "outputs": [
    {
     "data": {
      "text/plain": [
       "452"
      ]
     },
     "execution_count": 21,
     "metadata": {},
     "output_type": "execute_result"
    }
   ],
   "source": [
    "# not divisible by 6\n",
    "in_range - in_not_by_six"
   ]
  },
  {
   "cell_type": "code",
   "execution_count": 22,
   "metadata": {},
   "outputs": [],
   "source": [
    "# 13 athletes from around the world are competing in the steeplechase competition at the 2020 Olympics.\n",
    "# By the outcome of the event we'll mean the determination of who gets\n",
    "# the gold medal, who gets the silver medal, and who gets the bronze medal.\n",
    "# How many possible outcomes are there?\n",
    "outcomes = 13 * 12 * 11"
   ]
  },
  {
   "cell_type": "code",
   "execution_count": 23,
   "metadata": {},
   "outputs": [
    {
     "data": {
      "text/plain": [
       "996"
      ]
     },
     "execution_count": 23,
     "metadata": {},
     "output_type": "execute_result"
    }
   ],
   "source": [
    "# Say that three of the  athletes in the steeplechase competition are from Moldovia.\n",
    "# (Steeplechase is big in Moldovia, apparently.)\n",
    "# How many outcomes involve at least one Moldovian winning a medal?\n",
    "non_moldovian = 10 * 9 * 8\n",
    "outcomes - non_moldovian"
   ]
  },
  {
   "cell_type": "code",
   "execution_count": 24,
   "metadata": {},
   "outputs": [
    {
     "data": {
      "text/plain": [
       "223149655"
      ]
     },
     "execution_count": 24,
     "metadata": {},
     "output_type": "execute_result"
    }
   ],
   "source": [
    "# How many six-letter \"words\" in the English alphabet contain at least one vowel?\n",
    "# (For the purposes of this problem, there are five vowels among the 26 letters of the alphabet)\n",
    "six_letter_words = 26 ** 6\n",
    "no_vowels_words = 21 ** 6\n",
    "voweled_words = six_letter_words - no_vowels_words\n",
    "voweled_words"
   ]
  },
  {
   "cell_type": "code",
   "execution_count": 25,
   "metadata": {},
   "outputs": [
    {
     "data": {
      "text/plain": [
       "143150176"
      ]
     },
     "execution_count": 25,
     "metadata": {},
     "output_type": "execute_result"
    }
   ],
   "source": [
    "# How many six-letter words in the English alphabet have at least one repeated letter?\n",
    "# (By a repeated letter, we mean any letter that appears more than once in the word,\n",
    "# not necessarily in two adjacent letters.)\n",
    "\n",
    "six_no_repetition = 26 * 25 * 24 * 23 * 22 * 21\n",
    "same_w_factorial = factorial(26) / factorial(20)\n",
    "six_no_repetition == same_w_factorial\n",
    "six_w_repetition = six_letter_words - six_no_repetition\n",
    "six_w_repetition"
   ]
  },
  {
   "cell_type": "code",
   "execution_count": 26,
   "metadata": {},
   "outputs": [
    {
     "data": {
      "text/plain": [
       "(6561, 3645, 3024, 1680)"
      ]
     },
     "execution_count": 26,
     "metadata": {},
     "output_type": "execute_result"
    }
   ],
   "source": [
    "# Consider all numbers consisting of four different digits all between 1 and 9.\n",
    "# How many of these are odd?\n",
    "number_four = 9 ** 4\n",
    "number_four_different = 9 * 8 * 7 * 6\n",
    "odd_four = 5 * 9 ** 3\n",
    "odd_four_different = 5 * 8 * 7 * 6\n",
    "number_four, odd_four, number_four_different, odd_four_different"
   ]
  }
 ],
 "metadata": {
  "kernelspec": {
   "display_name": "Python 3",
   "language": "python",
   "name": "python3"
  },
  "language_info": {
   "codemirror_mode": {
    "name": "ipython",
    "version": 3
   },
   "file_extension": ".py",
   "mimetype": "text/x-python",
   "name": "python",
   "nbconvert_exporter": "python",
   "pygments_lexer": "ipython3",
   "version": "3.6.4"
  }
 },
 "nbformat": 4,
 "nbformat_minor": 2
}
